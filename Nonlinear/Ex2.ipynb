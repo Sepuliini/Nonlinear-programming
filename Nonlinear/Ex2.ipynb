{
 "cells": [
  {
   "cell_type": "code",
   "execution_count": 235,
   "id": "6c4a94d3",
   "metadata": {},
   "outputs": [],
   "source": [
    "%matplotlib inline\n",
    "import numpy as np\n",
    "import math\n",
    "import matplotlib.pyplot as plt"
   ]
  },
  {
   "cell_type": "markdown",
   "id": "86200cd4",
   "metadata": {},
   "source": [
    "<h2> Exercise 2 </h2>\n",
    "<br>\n",
    "<h4> 1. </h4>\n",
    "\n",
    "We are buying and selling electricity.\n",
    "The more we buy, the better price per kwH we will get.\n",
    "Buying price of electricity follows function $ f(x) = 1- 0.01x $, where $ 0 ≤ x ≤ 50 $ is the amount of electricity we buy.\n",
    "<p> Selling price of electricity follows the function $ g(x) = 2 - 0.01x^2 $ where x is the amount of electricity we sell. </p>\n",
    "Let's formulate this as an optimization problem:\n",
    "<br>\n",
    "<br>\n",
    "Profit = Revenue - Cost and \n",
    "Revenue = Price * x, where x is the number of units we will sell. And Cost = Price * x, where x is the amount of units we will buy.\n",
    "\n",
    "\n",
    "$$ \\text{profit} = g(x)x - f(x)x $$\n",
    "$$  = (2 - 0.01x^2)x - (1 - 0.01x)x $$\n",
    "$$  = 2x - 0.01x^3 - 1x + 0.01x^2 $$\n",
    "$$  = x - 0.01x^3 + 0.01x^2 $$\n",
    "\n",
    "\n",
    "<br>\n",
    "Now that we have our profit equation, we can form our optimization problem as:\n",
    "$$ \\qquad \\max \\qquad x - 0.01x^3 + 0.01x^2  $$\n",
    "$$\\text{s.t.} \\qquad 0 ≤ x ≤ 50 $$"
   ]
  },
  {
   "cell_type": "markdown",
   "id": "ef0b4630",
   "metadata": {},
   "source": [
    "<h4> 2. </h4>\n",
    "<br>\n",
    "<p> We will be using bisection search to optimize problem: </p>\n",
    "$$  \\min \\qquad (1-x)^2 + x  $$\n",
    "$$\\text{s.t.} \\qquad 0 ≤ x ≤ 2 $$"
   ]
  },
  {
   "cell_type": "code",
   "execution_count": 236,
   "id": "87fdccc7",
   "metadata": {},
   "outputs": [],
   "source": [
    "def f(x):\n",
    "    function = (1-x)**2 + x\n",
    "    return function"
   ]
  },
  {
   "cell_type": "code",
   "execution_count": 237,
   "id": "e3994d76",
   "metadata": {},
   "outputs": [],
   "source": [
    "def bisection(a,b,f,L,eps):\n",
    "    #(Set x as the starting point of interval and y as the end point)\n",
    "    x = a\n",
    "    y = b\n",
    "    steps = []\n",
    "    #(while y-x>2*L)\n",
    "    while y-x > 2*L:\n",
    "        #(if the function is increasing at the mid point between x and y:\n",
    "        #set y as the midpoint between y and x, because a local optimum is before the midpoin)\n",
    "        \n",
    "        #because we need to see how to function is beheaving close to midpoints without limits\n",
    "        #we will be using epsilon (a really small number) to check this from both sides of midpoints:\n",
    "        midpoint1 = (x+y)/2+eps\n",
    "        midpoint2 = (x+y)/2-eps\n",
    "        #print(\"midpoint1: \", midpoint1, \" midpoint2: \", midpoint2)\n",
    "        \n",
    "        if f(midpoint1) > f(midpoint2):\n",
    "            y = midpoint1\n",
    "            \n",
    "        #(otherwise: set x as the midpoint, because a local optimum is after the midpoint)\n",
    "        else:\n",
    "            x = midpoint2\n",
    "            \n",
    "    #return midpoint between x and y\n",
    "    return (x+y)/2"
   ]
  },
  {
   "cell_type": "code",
   "execution_count": 238,
   "id": "2aad245e",
   "metadata": {},
   "outputs": [
    {
     "name": "stdout",
     "output_type": "stream",
     "text": [
      "0.499028447265625 0.7500009439147157\n",
      "optimal is:  0.499028447265625  and function value is:  0.7500009439147157\n"
     ]
    }
   ],
   "source": [
    "L = 0.001\n",
    "epsilon = 1e-5\n",
    "x = bisection(0.0,2.0,f,L,epsilon)\n",
    "print(x, f(x))\n",
    "print(\"optimal is: \", x, \" and function value is: \", f(x))"
   ]
  },
  {
   "cell_type": "code",
   "execution_count": 239,
   "id": "cb15bd18",
   "metadata": {},
   "outputs": [
    {
     "data": {
      "image/png": "[encoded data removed]",
      "text/plain": [
       "<Figure size 640x480 with 1 Axes>"
      ]
     },
     "metadata": {},
     "output_type": "display_data"
    }
   ],
   "source": [
    "L = 0.001\n",
    "epsilon = 1e-6\n",
    "y = bisection(0.0,2.0,f,L,epsilon)\n",
    "\n",
    "x = np.linspace(0.0, 2.0, 100)\n",
    "plt.plot(x, f(x))\n",
    "plt.plot(y,f(y),  marker='o')\n",
    "plt.grid()\n",
    "plt.show()"
   ]
  },
  {
   "cell_type": "markdown",
   "id": "1e7d2fd4",
   "metadata": {},
   "source": [
    "<h4> 3. </h4> \n",
    "\n",
    "<p> We will be using golden section search to optimize function from task 2. </p>\n",
    "$$  \\min \\qquad (1-x)^2 + x  $$\n",
    "$$\\text{s.t.} \\qquad 0 ≤ x ≤ 2 $$"
   ]
  },
  {
   "cell_type": "code",
   "execution_count": 240,
   "id": "b98edada",
   "metadata": {},
   "outputs": [],
   "source": [
    "def golden(a,b,f,L):\n",
    "    #(Set x as the start point of interval and y as the end point)\n",
    "    x = a\n",
    "    y = b\n",
    "    \n",
    "    #(Divide the interval [x,y] in the golden section from the left and right and attain two division points\n",
    "    #If the greater of the division points has a greater function value \n",
    "    #set y as the rightmost division point, because a local optimum is before that)\n",
    "    \n",
    "    while y-x>2*L:\n",
    "        \n",
    "        left_ratio = y-((math.sqrt(5.0)-1)/2.0)*(y-x)\n",
    "        right_ratio = x+((math.sqrt(5.0)-1)/2.0)*(y-x)\n",
    "        \n",
    "        if f(left_ratio) < f(right_ratio):\n",
    "            y = right_ratio\n",
    "        #(otherwise:\n",
    "        #set x as the leftmost division point, because a local optimum is after that)\n",
    "        else:\n",
    "            x = left_ratio\n",
    "    \n",
    "    #return midpoint between x and y\n",
    "    return (x+y)/2\n",
    "        \n",
    "        "
   ]
  },
  {
   "cell_type": "code",
   "execution_count": 241,
   "id": "cd0acaee",
   "metadata": {},
   "outputs": [
    {
     "name": "stdout",
     "output_type": "stream",
     "text": [
      "optimal is:  0.5000144673135177  and function value is:  0.7500000002093031\n"
     ]
    }
   ],
   "source": [
    "L = 0.0001\n",
    "epsilon = 1e-5\n",
    "z = golden(0.0,4.0,f,L)\n",
    "print(\"optimal is: \", z, \" and function value is: \", f(z))"
   ]
  },
  {
   "cell_type": "code",
   "execution_count": 242,
   "id": "3f6770e4",
   "metadata": {},
   "outputs": [
    {
     "data": {
      "image/png": "[encoded data removed]",
      "text/plain": [
       "<Figure size 640x480 with 1 Axes>"
      ]
     },
     "metadata": {},
     "output_type": "display_data"
    }
   ],
   "source": [
    "L = 0.00001\n",
    "g = golden(0.0,2.0,f,L)\n",
    "x1 = np.linspace(0.0, 2.0, 100)\n",
    "plt.plot(x1, f(x1))\n",
    "plt.plot(g,f(g),  marker='o')\n",
    "plt.grid()\n",
    "plt.show()"
   ]
  },
  {
   "cell_type": "markdown",
   "id": "0ab3e449",
   "metadata": {},
   "source": [
    "<h4> 4.1 </h4>\n",
    "<p> Using differentiation we can solve the function from task 1: </p>\n",
    "<br>\n",
    "$$ \\qquad \\max \\qquad x - 0.01x^3 + 0.01x^2  $$\n",
    "$$\\text{s.t.} \\qquad 0 ≤ x ≤ 50 $$\n",
    "\n",
    "Let $$ f(x) = x - 0.01x^3 + 0.01x^2 $$\n",
    "\n",
    "$$ f'(x) = 1 - 0.03x^2 + 0.02x $$\n",
    "<br>\n",
    "$$ f''(x) = -0.06x + 0.02 $$\n",
    "\n",
    "Let's see when the first derivative is 0:\n",
    "$$  1 - 0.03x^2 + 0.02x = 0 $$\n",
    "<br>\n",
    "$$ x = \\frac{-0.02 \\pm \\sqrt{0.02^2 - 4 * -(0.03) * 1}}{2 * 0.03} $$\n",
    "<br>\n",
    "$$ x = \\frac{-0.02 \\pm \\sqrt{0.1204}}{0.06} $$\n",
    "<br>\n",
    "derivative is $0$ if $x = -5.44978...$ or $ x = 6.11645... $\n",
    "<br>\n",
    "<br>\n",
    "Second derivative $f''(6.116) $:\n",
    "$$ -0.06 * (6.116) + 0.02 < 0 $$\n",
    "<br>\n",
    "So 6.116 is local maximum"
   ]
  },
  {
   "cell_type": "markdown",
   "id": "3079106f",
   "metadata": {},
   "source": [
    "<h4> 4.2 </h4>\n",
    "<p> Now let's solve the function from task 2 and 3: </p>\n",
    "$$  \\min \\qquad (1-x)^2 + x  $$\n",
    "$$\\text{s.t.} \\qquad 0 ≤ x ≤ 2 $$\n",
    "<br>\n",
    "Let $$ f(x) = (1-x)^2 + x $$\n",
    "<br>\n",
    "So $$ f'(x) = 2(1-x)(-1) + 1 $$ \n",
    "$$= 2x - 1 $$ \n",
    "<br>\n",
    "And $$ f''(x) = 2 $$ \n",
    "<br> \n",
    "We can see that $f''(x) > 0$ with all $ x \\in R $\n",
    "<br>\n",
    "<br>\n",
    "Let's see when first derivative is 0: $$ 2x - 1 = 0 $$\n",
    "$$ x = \\frac{1}{2} $$\n",
    "<br> \n",
    "So $x = \\frac{1}{2}$ is the local minimum\n",
    "just like we saw before with bisection and golden section algorithms."
   ]
  }
 ],
 "metadata": {
  "kernelspec": {
   "display_name": "Python 3 (ipykernel)",
   "language": "python",
   "name": "python3"
  },
  "language_info": {
   "codemirror_mode": {
    "name": "ipython",
    "version": 3
   },
   "file_extension": ".py",
   "mimetype": "text/x-python",
   "name": "python",
   "nbconvert_exporter": "python",
   "pygments_lexer": "ipython3",
   "version": "3.9.13"
  }
 },
 "nbformat": 4,
 "nbformat_minor": 5
}
