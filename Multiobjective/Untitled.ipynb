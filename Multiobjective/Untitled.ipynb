{
 "cells": [
  {
   "cell_type": "markdown",
   "id": "4b72b260",
   "metadata": {},
   "source": [
    "<h3> Assignment 1 </h3>"
   ]
  },
  {
   "cell_type": "code",
   "execution_count": 2,
   "id": "299761fd",
   "metadata": {},
   "outputs": [],
   "source": [
    "#imports\n",
    "import numpy as np"
   ]
  },
  {
   "cell_type": "markdown",
   "id": "d1d14734",
   "metadata": {},
   "source": [
    "<h4> Problem 1 </h4>\n",
    "<p> In this problem we will solve .... </p> "
   ]
  },
  {
   "cell_type": "code",
   "execution_count": null,
   "id": "3df8d4c7",
   "metadata": {},
   "outputs": [],
   "source": []
  }
 ],
 "metadata": {
  "kernelspec": {
   "display_name": "Python 3 (ipykernel)",
   "language": "python",
   "name": "python3"
  },
  "language_info": {
   "codemirror_mode": {
    "name": "ipython",
    "version": 3
   },
   "file_extension": ".py",
   "mimetype": "text/x-python",
   "name": "python",
   "nbconvert_exporter": "python",
   "pygments_lexer": "ipython3",
   "version": "3.9.13"
  }
 },
 "nbformat": 4,
 "nbformat_minor": 5
}
