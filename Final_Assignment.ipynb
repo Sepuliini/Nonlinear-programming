{
 "cells": [
  {
   "cell_type": "code",
   "execution_count": 1,
   "id": "8448f1a4",
   "metadata": {},
   "outputs": [],
   "source": [
    "#imports used in this assignment\n",
    "import numpy as np\n",
    "import ad\n",
    "import math\n",
    "from scipy.optimize import minimize\n",
    "from scipy.optimize import minimize_scalar\n",
    "import matplotlib.pyplot as plt\n",
    "import pandas as pd\n",
    "%matplotlib inline\n",
    "\n",
    "from desdeo_problem.problem import MOProblem\n",
    "from desdeo_problem.problem.Variable import variable_builder\n",
    "from desdeo_problem.problem.Objective import _ScalarObjective\n",
    "from desdeo_mcdm.utilities import payoff_table_method as ptm\n",
    "from desdeo_problem.surrogatemodels import GaussianProcessRegressor\n",
    "from desdeo_problem import VectorDataObjective as VDO\n",
    "from desdeo_problem import DataProblem\n",
    "from desdeo_problem import ScalarDataProblem\n",
    "from desdeo_mcdm.utilities import payoff_table_method"
   ]
  },
  {
   "cell_type": "markdown",
   "id": "60924690",
   "metadata": {},
   "source": [
    "<h2> Assignment </h2>"
   ]
  },
  {
   "cell_type": "markdown",
   "id": "d18e55fe",
   "metadata": {},
   "source": [
    "<h3> About this assignment </h3>\n",
    "<p> This is the final assignment for Nonlinear optimization course </p> "
   ]
  },
  {
   "cell_type": "markdown",
   "id": "cebd7770",
   "metadata": {},
   "source": [
    "<h3> Problem 1 </h3>\n",
    "<p> In this problem we will be forming, solving and analysing a optimization problem as follows: </p> \n",
    "<p> A window is being built and the bottom is a rectangle and the top is a semicircle. If there is 12 m of framing materials what must the dimensions of the window be to make the window area as big as possible? </p> "
   ]
  },
  {
   "cell_type": "markdown",
   "id": "2ae3d98e",
   "metadata": {},
   "source": [
    "<p> We can model the problem as follows: </p>\n",
    "\n",
    "<li> Area of circle is $\\pi r^2$ and we only need half of this circle for our window so we get that $\\frac{\\pi r^2}{2} $ and simplifying to $\\pi r$</li>\n",
    "\n",
    "<li> For rectangle we will need the height and width $h \\times w$. We know that the width of the rectangle is equal to $w = r^2$ so we need to figure out the height $h$  </li>\n",
    "\n",
    "<li> Constraint for this problem is that we can only use $≤12m$ of framing materials. So we can define our constraint as $2h + r^2 + \\pi r ≤ 12$ </li>\n",
    "\n",
    "<p> Now we can write this as an optimization problem: </p>\n",
    "\n",
    "$$\n",
    "\\begin{equation}\n",
    "\\begin{aligned}\n",
    "\\begin{cases}\n",
    " \\max & f(h,r) = \\pi r + hr^2 \\\\\n",
    "\\text{s.t.}   & 2h + r^2 + \\pi r ≤ 12 \\\\\n",
    "\\end{cases}\n",
    "\\end{aligned}\n",
    "\\end{equation}\n",
    "$$\n",
    "\n",
    "<p> This is a two variable objective optimization problem with inequality constraint. </p> \n",
    "<p> We can use simple penalty method to solve this problem </p>"
   ]
  },
  {
   "cell_type": "code",
   "execution_count": 5,
   "id": "42d6cc48",
   "metadata": {},
   "outputs": [],
   "source": [
    "#Define function and constraint\n",
    "#here x_0 = r and x_1 = h\n",
    "#We multiply the function by -1 because we will be using minimization to solve the problem\n",
    "def f(x):\n",
    "    return -1 * (math.pi * x[0] + x[1] * x[0]**2), [] ,[-1*(2*x[1] + x[0]**2 + math.pi * x[0] - 12)]"
   ]
  },
  {
   "cell_type": "code",
   "execution_count": 6,
   "id": "c0f8e63f",
   "metadata": {},
   "outputs": [],
   "source": [
    "#Define alpha as:\n",
    "def alpha(x,f):\n",
    "    (_,ieq,eq) = f(x)\n",
    "    return sum([min([0,ieq_j])**2 for ieq_j in ieq]) + sum([eq_k**2 for eq_k in eq])\n",
    "\n",
    "#Penalized function:\n",
    "def penalized(x,f,r):\n",
    "    return f(x)[0] + r*alpha(x,f)"
   ]
  },
  {
   "cell_type": "code",
   "execution_count": 7,
   "id": "593db138",
   "metadata": {},
   "outputs": [
    {
     "name": "stdout",
     "output_type": "stream",
     "text": [
      "res:   final_simplex: (array([[1.70453268, 1.86984732],\n",
      "       [1.70454897, 1.86979344],\n",
      "       [1.70450419, 1.86993971]]), array([-10.78760698, -10.78760697, -10.78760696]))\n",
      "           fun: -10.787606976405089\n",
      "       message: 'Optimization terminated successfully.'\n",
      "          nfev: 62\n",
      "           nit: 32\n",
      "        status: 0\n",
      "       success: True\n",
      "             x: array([1.70453268, 1.86984732])\n",
      "Solution:  r:  1.7045326824485132 , h:  1.8698473162702516\n",
      "iter:  200\n"
     ]
    }
   ],
   "source": [
    "r = 1 # We will start with r = 1\n",
    "#precision can be changed depending how accurate answer we want\n",
    "precision = 0.00000001\n",
    "a = np.array([float('inf')])\n",
    "#starting point at 0 to 12\n",
    "b = [0,12]\n",
    "steplist_penalty = []\n",
    "iter0 = 0\n",
    "while iter0 < 200:\n",
    "    a = b\n",
    "    res = minimize(lambda x:penalized(x,f,r), a, method='Nelder-Mead', options={'disp': False})\n",
    "    b = np.array(res.x)\n",
    "    r = r + 50\n",
    "    iter0 = iter0 + 1\n",
    "    steplist_penalty.append(list(b))\n",
    "print(\"res: \", res)\n",
    "print(\"Solution: \", \"r: \", b[0], \", h: \", b[1])\n",
    "print(\"iter: \", iter0)"
   ]
  },
  {
   "cell_type": "markdown",
   "id": "c2b74c25",
   "metadata": {},
   "source": [
    "<p> We get that the radius $r = 1.7045326824485132$ and height of the rectangle $h = 1.8698473162702516$ with precicion of $0.00000001$ </p>\n",
    "<p> We can chek if these satisfy our constraints: </p>\n",
    "\n",
    "<p> Let $r = 1.7045326824485132$ and $h = 1.8698473162702516$ we get that: </p> \n",
    "<p> </p>\n",
    "$$ 2(1.8698473162702516) + (1.7045326824485132)^2 + \\pi (1.7045326824485132) ≤ 12 $$"
   ]
  },
  {
   "cell_type": "code",
   "execution_count": 8,
   "id": "e5b1148f",
   "metadata": {},
   "outputs": [
    {
     "name": "stdout",
     "output_type": "stream",
     "text": [
      "12.00007365105958\n"
     ]
    }
   ],
   "source": [
    "res1 = 2*(1.8698473162702516)+(1.7045326824485132)**2 + math.pi* (1.7045326824485132)\n",
    "print(res1)"
   ]
  },
  {
   "cell_type": "markdown",
   "id": "fcb97788",
   "metadata": {},
   "source": [
    "<p> We get that the answer is ~$12$ with our precision so it satisfies our constraint. Now we can calculate the area of our window as: </p> \n",
    "\n",
    "$$ \\pi (1.7045326824485132) + (1.8698473162702516) \\times (1.7045326824485132)^2 $$"
   ]
  },
  {
   "cell_type": "code",
   "execution_count": 9,
   "id": "eb168fb7",
   "metadata": {},
   "outputs": [
    {
     "name": "stdout",
     "output_type": "stream",
     "text": [
      "10.787660955391411\n"
     ]
    }
   ],
   "source": [
    "res2 = math.pi * (1.7045326824485132) + (1.8698473162702516) * (1.7045326824485132)**2\n",
    "print(res2)"
   ]
  },
  {
   "cell_type": "markdown",
   "id": "75c4f3da",
   "metadata": {},
   "source": [
    "<h3> Analyzing </h3>\n",
    "<p> We get that the size of our window (with precision of $0.00000001$) would be $10.787660955391411$ </p>\n",
    "<p> We used penalty method to solve our optimization problem and got a pretty accurate answer. In our case we will need to round our answer a little bit so that it would satisfy the constraint for this problem. Other than that our answer is really accurate and penalty method works great for this kind of optimization problem. </p>"
   ]
  },
  {
   "cell_type": "markdown",
   "id": "41771277",
   "metadata": {},
   "source": [
    "<h3> Problem 2 </h3>\n",
    "<p> The $10$-dimensional Robsenbrock function (one of the variants) is defined as: </p> \n",
    "\n",
    "$$\n",
    "\\begin{equation}\n",
    "\\begin{aligned}\n",
    "&f(x) = \\sum_{i=1}^9 100(x_{i+1} - x_i^2)^2 + (1 - x_i)^2\n",
    "&\\textit{, where } x \\in R^{10}\n",
    "\\end{aligned}\n",
    "\\end{equation}\n",
    "$$\n",
    "\n",
    "<p> We will be comparing at least two different optimization method's performance in minimizing this function over $R^{10}$. We can define our problem as a minimization optimization problem as: </p> \n",
    "\n",
    "$$\n",
    "\\begin{equation}\n",
    "\\begin{aligned}\n",
    "\\begin{cases}\n",
    "\\min &f(x) = \\sum_{i=1}^9 100(x_{i+1} - x_i^2)^2 + (1 - x_i)^2 \\\\\n",
    "\\textit{s.t. } & x \\in R^{10}\n",
    "\\end{cases}\n",
    "\\end{aligned}\n",
    "\\end{equation}\n",
    "$$\n",
    "\n",
    "\n",
    "<p> We will be using two different methods to solve this probelm: </p>\n",
    "<li> 1. Penalized function method  </li>\n",
    "<li> 2. Using Golden section and Steepest descen algorithmn </li>"
   ]
  },
  {
   "cell_type": "markdown",
   "id": "54868881",
   "metadata": {},
   "source": [
    "<h3> Using penalty method method  </h3>"
   ]
  },
  {
   "cell_type": "code",
   "execution_count": 10,
   "id": "45d1d41d",
   "metadata": {},
   "outputs": [
    {
     "name": "stdout",
     "output_type": "stream",
     "text": [
      "res:   final_simplex: (array([[1.00000118, 1.00000013, 1.00000001, 0.99999983, 0.99999817,\n",
      "        0.99999721, 0.9999976 , 0.99999568, 0.99999063, 0.99998543],\n",
      "       [1.00000104, 1.00000111, 1.00000092, 1.00000045, 1.00000158,\n",
      "        1.00000541, 1.00000759, 1.00001342, 1.00002823, 1.0000541 ],\n",
      "       [1.00000187, 1.00000063, 0.9999994 , 0.99999804, 0.99999685,\n",
      "        0.99999766, 0.99999371, 0.99998803, 0.9999792 , 0.99995621],\n",
      "       [1.00000316, 1.00000207, 1.00000185, 1.00000258, 1.00000241,\n",
      "        1.00000502, 1.00000811, 1.00001794, 1.0000371 , 1.00007395],\n",
      "       [1.00000329, 1.0000045 , 1.00000225, 1.00000255, 1.00000143,\n",
      "        1.00000136, 1.00000186, 1.00000265, 1.00000735, 1.00001361],\n",
      "       [1.00000089, 0.99999964, 0.99999885, 0.99999833, 1.00000202,\n",
      "        1.00000586, 1.00000643, 1.00001431, 1.00002806, 1.0000562 ],\n",
      "       [1.00000204, 0.9999994 , 0.99999925, 1.00000074, 0.99999932,\n",
      "        0.99999843, 0.99999556, 0.99998855, 0.99997271, 0.99994117],\n",
      "       [1.00000355, 1.00000098, 0.9999996 , 0.99999709, 1.00000031,\n",
      "        0.99999921, 1.00000011, 0.99999836, 0.99999637, 0.99998938],\n",
      "       [1.00000211, 1.00000021, 1.00000235, 1.00000079, 1.00000139,\n",
      "        1.00000158, 0.99999734, 0.99999857, 0.99999289, 0.99998458],\n",
      "       [1.00000213, 1.00000158, 1.00000094, 1.00000177, 1.00000238,\n",
      "        1.00000054, 1.00000105, 1.00001008, 1.00001874, 1.00003471],\n",
      "       [1.0000012 , 1.00000415, 1.00000082, 1.00000019, 0.99999981,\n",
      "        1.00000232, 1.00000314, 1.00000668, 1.00000773, 1.0000113 ]]), array([3.76316181e-09, 4.18645311e-09, 5.39827392e-09, 5.84921459e-09,\n",
      "       7.78028814e-09, 7.85099485e-09, 8.65151086e-09, 1.05234754e-08,\n",
      "       1.05911264e-08, 1.09209409e-08, 1.21400308e-08]))\n",
      "           fun: 3.763161810431738e-09\n",
      "       message: 'Optimization terminated successfully.'\n",
      "          nfev: 384\n",
      "           nit: 242\n",
      "        status: 0\n",
      "       success: True\n",
      "             x: array([1.00000118, 1.00000013, 1.00000001, 0.99999983, 0.99999817,\n",
      "       0.99999721, 0.9999976 , 0.99999568, 0.99999063, 0.99998543])\n"
     ]
    }
   ],
   "source": [
    "# Define function\n",
    "def f(x):\n",
    "    return (np.sum(100*(x[1:] - x[:-1]**2)**2 + (1 - x[:-1])**2), [], [])\n",
    "\n",
    "# Define alpha as (from lectures):\n",
    "def alpha(x,f):\n",
    "    (_,ieq,eq) = f(x)\n",
    "    return sum([min([0,ieq_j])**2 for ieq_j in ieq]) + sum([eq_k**2 for eq_k in eq])\n",
    "\n",
    "# Penalized function (from lectures):\n",
    "def penalized(x,f,r):\n",
    "    return f(x)[0] + r*alpha(x,f)\n",
    "\n",
    "r = 1 # We will start with r = 1\n",
    "precision = 0.0001\n",
    "a = np.array([float('inf')])\n",
    "# Starting point at [-10,10, -10, 10, 1, -1, 0, 0, 10 ,10]\n",
    "b = [-10,10, -10, 10, 1, -1, 0, 0, 10 ,10]\n",
    "steplist_penalty = []\n",
    "iter0 = 0\n",
    "while iter0 < 500:\n",
    "    a = b\n",
    "    res = minimize(lambda x:penalized(x,f,r), a, method='Nelder-Mead', options={'disp': False})\n",
    "    b = np.array(res.x)\n",
    "    r = r + 10\n",
    "    iter0 = iter0 + 1\n",
    "    steplist_penalty.append(list(b))\n",
    "print(\"res: \", res)"
   ]
  },
  {
   "cell_type": "code",
   "execution_count": 12,
   "id": "c7a08cb9",
   "metadata": {},
   "outputs": [
    {
     "data": {
      "text/plain": [
       "[<matplotlib.lines.Line2D at 0x7fefb01a1280>]"
      ]
     },
     "execution_count": 12,
     "metadata": {},
     "output_type": "execute_result"
    },
    {
     "data": {
      "image/png": "[encoded data removed]",
      "text/plain": [
       "<Figure size 640x480 with 1 Axes>"
      ]
     },
     "metadata": {},
     "output_type": "display_data"
    }
   ],
   "source": [
    "start = [-10,10, -10, 10, 1, -1, 0, 0, 10 ,10]\n",
    "vector = np.array([start] + steplist_penalty).transpose()\n",
    "plt.title(\"Optimized step length\")\n",
    "plt.plot(vector[0,], vector[1,], 'ro')"
   ]
  },
  {
   "cell_type": "markdown",
   "id": "69539062",
   "metadata": {},
   "source": [
    "<H3> Using Golden section and Steepest descen algorithmn </H3>"
   ]
  },
  {
   "cell_type": "code",
   "execution_count": 13,
   "id": "f2b28795",
   "metadata": {},
   "outputs": [],
   "source": [
    "#Define function\n",
    "def f(x):\n",
    "    return np.sum(100*(x[1:] - x[:-1]**2)**2 + (1 - x[:-1])**2)\n",
    "\n",
    "#Using golden section and steepest-descent to solve our problem:\n",
    "def golden(a,b,f,L):\n",
    "    #(Set x as the start point of interval and y as the end point)\n",
    "    x = a\n",
    "    y = b\n",
    "    #(Divide the interval [x,y] in the golden section from the left and right and attain two division points\n",
    "    #If the greater of the division points has a greater function value \n",
    "    #set y as the rightmost division point, because a local optimum is before that)\n",
    "    while y-x>2*L:  \n",
    "        left_ratio = y-((math.sqrt(5.0)-1)/2.0)*(y-x)\n",
    "        right_ratio = x+((math.sqrt(5.0)-1)/2.0)*(y-x)   \n",
    "        if f(left_ratio) < f(right_ratio):\n",
    "            y = right_ratio\n",
    "        #(otherwise:\n",
    "        #set x as the leftmost division point, because a local optimum is after that)\n",
    "        else:\n",
    "            x = left_ratio\n",
    "    #return midpoint between x and y\n",
    "    return (x+y)/2\n",
    "\n",
    "\n",
    "def steepest_descent_golden(f,start,length,precision):\n",
    "    x = np.array(start)\n",
    "    func_old = float('Inf')\n",
    "    d = float('Inf')\n",
    "    func_new = f(x)\n",
    "    steplist = []\n",
    "    while abs(func_old - func_new) > precision:\n",
    "            func_old = func_new\n",
    "            # Calculate gradient using finite difference method\n",
    "            epsilon = 1e-4\n",
    "            gradient = np.zeros_like(x)\n",
    "            for i in range(x.shape[0]):\n",
    "                x_plus = x.copy()\n",
    "                x_plus[i] += epsilon\n",
    "                x_minus = x.copy()\n",
    "                x_minus[i] -= epsilon\n",
    "                gradient[i] = (f(x_plus) - f(x_minus)) / (2 * epsilon)\n",
    "            d = -gradient / np.linalg.norm(gradient)\n",
    "            # Implementing golden section for optimization of step length\n",
    "            # Golden section algorithm is the same one used at Exercise 2\n",
    "            step = golden(0, length, lambda i: f(x + i * d), precision)  \n",
    "            x = x + d * step # Take a step\n",
    "            func_new = f(x) # New value\n",
    "            steplist.append(list(x))\n",
    "    return x, steplist\n"
   ]
  },
  {
   "cell_type": "code",
   "execution_count": 14,
   "id": "d44fedc4",
   "metadata": {},
   "outputs": [
    {
     "name": "stdout",
     "output_type": "stream",
     "text": [
      "Min:  [-0.9946032   0.99926233  1.00353545  1.00959882  1.02056457  1.04229738\n",
      "  1.08683835  1.18196436  1.3976634   1.95536965]\n"
     ]
    }
   ],
   "source": [
    "start = [-10,10, -10, 10, 1, -1, 0, 0, 10 ,10]\n",
    "precision = 0.0001\n",
    "(x,steplist) = steepest_descent_golden(f, start, 3, precision)\n",
    "print (\"Min: \", x)"
   ]
  },
  {
   "cell_type": "code",
   "execution_count": 15,
   "id": "f11cae8e",
   "metadata": {},
   "outputs": [
    {
     "data": {
      "text/plain": [
       "[<matplotlib.lines.Line2D at 0x7fefb0429df0>]"
      ]
     },
     "execution_count": 15,
     "metadata": {},
     "output_type": "execute_result"
    },
    {
     "data": {
      "image/png": "[encoded data removed]",
      "text/plain": [
       "<Figure size 640x480 with 1 Axes>"
      ]
     },
     "metadata": {},
     "output_type": "display_data"
    }
   ],
   "source": [
    "vector = np.array([start] + steplist).transpose()\n",
    "plt.title(\"Optimized step length\")\n",
    "plt.plot(vector[0,], vector[1,], 'ro')"
   ]
  },
  {
   "cell_type": "markdown",
   "id": "170393a7",
   "metadata": {},
   "source": [
    "<h4> Analyzing </h4>\n",
    "<p> With penalty method we get that Min: [1.00000118, 1.00000013, 1.00000001, 0.99999983, 0.99999817,\n",
    "       0.99999721, 0.9999976 , 0.99999568, 0.99999063, 0.99998543] </p>\n",
    "       \n",
    "<p> And with steepest descend we get that Min:  [-0.9946032   0.99926233  1.00353545  1.00959882  1.02056457  1.04229738\n",
    "  1.08683835  1.18196436  1.3976634   1.95536965]</p>\n",
    "<p> Answers we get differ a little bit but are still pretty close to each other. What we can see from our graphs is that the penalty method get's closer to minima with fever steps that steepest descent. But steepest descent seems to be more accurate in this case and for example the graph is way easier to read. </p>\n",
    "\n",
    "<p> We can also see that minimization seems to happen from different directions as penalty method gets answers so that $x < 1$ while the steepest descent seems to be getting answers so that $x > 1$  </p>"
   ]
  },
  {
   "cell_type": "markdown",
   "id": "07ea2a1b",
   "metadata": {},
   "source": [
    "<h3> Problem 3 </h3>\n",
    "<p> In this problem we will be studying a bi-objective optimization problem that is defined as follows: </p> \n",
    "\n",
    "$$\n",
    "\\begin{equation}\n",
    "\\begin{aligned}\n",
    "\\begin{cases}\n",
    " \\max & \\{ \\| (x-(1,0)) \\| \\textit{ , } \\| (x - (0,1)) \\| \\} \\\\\n",
    "\\text{s.t.}  & x \\in R^2 \\\\\n",
    "\\end{cases}\n",
    "\\end{aligned}\n",
    "\\end{equation}\n",
    "$$\n",
    "\n",
    "We can rewrite this problem as:\n",
    "\n",
    "$$\n",
    "\\begin{equation}\n",
    "\\begin{aligned}\n",
    "\\begin{cases}\n",
    " \\max \\qquad & f_1(x) = \\| (x-(1,0)) \\|  \\\\\n",
    " \\max \\qquad & f_2(x) = \\| (x-(0,1)) \\| \\\\\n",
    " \\text{s.t.} \\qquad  & x \\in R^2 \\\\\n",
    " \\end{cases}\n",
    "\\end{aligned}\n",
    "\\end{equation}\n",
    "$$\n",
    "\n",
    "<p> From here we will get that: </p>\n",
    "\n",
    "$$\n",
    "\\begin{equation}\n",
    "\\begin{aligned}\n",
    "\\begin{cases}\n",
    " \\max \\qquad & f_1(x) = \\| x_1 - 1 + x_2  \\|  \\\\\n",
    " \\max \\qquad & f_2(x) = \\| x_1  + x_2 - 1 \\| \\\\\n",
    " \\text{s.t.} \\qquad  & x \\in R^2 \\\\\n",
    " \\end{cases}\n",
    "\\end{aligned}\n",
    "\\end{equation}\n",
    "$$"
   ]
  },
  {
   "cell_type": "code",
   "execution_count": 8,
   "id": "40993c34",
   "metadata": {},
   "outputs": [],
   "source": [
    "#let's start by defining our functions\n",
    "#We need to multiply by -1 because we are minimizing our functions\n",
    "def f(x):\n",
    "    return [-1*((x[0] - 1) + x[1]),-1*(x[0] + (x[1]-1))]\n",
    "\n",
    "w = np.random.random ((500,2)) #Random weights"
   ]
  },
  {
   "cell_type": "code",
   "execution_count": 3,
   "id": "67d980c8",
   "metadata": {},
   "outputs": [],
   "source": [
    "#From the lectures we get the function for weighing method as:\n",
    "def weighting_method(f,w):\n",
    "    start = [0,0] #starting values for the variables \n",
    "    points = []\n",
    "    for wi in w:\n",
    "        res=minimize(\n",
    "            #weighted sum\n",
    "            lambda x: sum(np.array(wi)*np.array(f(x))), \n",
    "            start, method='SLSQP',\n",
    "            #Jacobian using automatic differentiation\n",
    "            jac=ad.gh(lambda x: sum(np.array(wi)*np.array(f(x))))[0])\n",
    "        points.append(res.x)\n",
    "    return points"
   ]
  },
  {
   "cell_type": "code",
   "execution_count": 4,
   "id": "be957770",
   "metadata": {},
   "outputs": [
    {
     "name": "stdout",
     "output_type": "stream",
     "text": [
      "head:  [array([2.70162084e+15, 2.70162084e+15]), array([3.94635253e+15, 3.94635253e+15]), array([4.08001734e+15, 4.08001734e+15]), array([3.30584077e+15, 3.30584077e+15]), array([2.2178044e+15, 2.2178044e+15]), array([3.60152039e+15, 3.60152039e+15]), array([3.77551805e+15, 3.77551805e+15]), array([2.18084521e+15, 2.18084521e+15]), array([1.89620484e+15, 1.89620484e+15]), array([4.94349358e+15, 4.94349358e+15])]\n",
      "\n",
      "tail:  [array([3.03164308e+15, 3.03164308e+15]), array([2.50165689e+15, 2.50165689e+15]), array([2.43806785e+15, 2.43806785e+15]), array([2.66607742e+15, 2.66607742e+15]), array([3.27382756e+15, 3.27382756e+15]), array([2.69625282e+15, 2.69625282e+15]), array([2.16798135e+15, 2.16798135e+15]), array([1.63914908e+15, 1.63914908e+15]), array([2.87031111e+15, 2.87031111e+15]), array([2.18330539e+15, 2.18330539e+15])]\n"
     ]
    }
   ],
   "source": [
    "res = weighting_method(f,w)\n",
    "print(\"head: \", res[:10])\n",
    "print()\n",
    "print(\"tail: \", res[-10:])"
   ]
  },
  {
   "cell_type": "code",
   "execution_count": 5,
   "id": "79bbec8b",
   "metadata": {},
   "outputs": [
    {
     "name": "stdout",
     "output_type": "stream",
     "text": [
      "head:  [[-5.40324167e+15 -5.40324167e+15]\n",
      " [-7.89270507e+15 -7.89270507e+15]\n",
      " [-8.16003468e+15 -8.16003468e+15]\n",
      " [-6.61168154e+15 -6.61168154e+15]\n",
      " [-4.43560881e+15 -4.43560881e+15]\n",
      " [-7.20304078e+15 -7.20304078e+15]\n",
      " [-7.55103610e+15 -7.55103610e+15]\n",
      " [-4.36169042e+15 -4.36169042e+15]\n",
      " [-3.79240968e+15 -3.79240968e+15]\n",
      " [-9.88698715e+15 -9.88698715e+15]]\n",
      "\n",
      "tail:  [[-6.06328617e+15 -6.06328617e+15]\n",
      " [-5.00331378e+15 -5.00331378e+15]\n",
      " [-4.87613571e+15 -4.87613571e+15]\n",
      " [-5.33215484e+15 -5.33215484e+15]\n",
      " [-6.54765512e+15 -6.54765512e+15]\n",
      " [-5.39250563e+15 -5.39250563e+15]\n",
      " [-4.33596270e+15 -4.33596270e+15]\n",
      " [-3.27829816e+15 -3.27829816e+15]\n",
      " [-5.74062222e+15 -5.74062222e+15]\n",
      " [-4.36661078e+15 -4.36661078e+15]]\n"
     ]
    }
   ],
   "source": [
    "f_values = np.array([f(x) for x in res])\n",
    "print(\"head: \", f_values[:10])\n",
    "print()\n",
    "print(\"tail: \", f_values[-10:])"
   ]
  },
  {
   "cell_type": "code",
   "execution_count": 6,
   "id": "59a7b3c4",
   "metadata": {},
   "outputs": [
    {
     "data": {
      "image/png": "[encoded data removed]",
      "text/plain": [
       "<Figure size 640x480 with 1 Axes>"
      ]
     },
     "metadata": {},
     "output_type": "display_data"
    }
   ],
   "source": [
    "# Plot Pareto front in objective space\n",
    "plt.scatter(f_values[:, 0], f_values[:, 1])\n",
    "plt.xlabel('f1(x)')\n",
    "plt.ylabel('f2(x)')\n",
    "plt.title('Pareto Front in Objective Space')\n",
    "#plt.xlim(-2,1)\n",
    "#plt.ylim(-2,1)\n",
    "plt.show()"
   ]
  },
  {
   "cell_type": "code",
   "execution_count": 7,
   "id": "9ff8ff84",
   "metadata": {},
   "outputs": [
    {
     "data": {
      "image/png": "[encoded data removed]",
      "text/plain": [
       "<Figure size 640x480 with 1 Axes>"
      ]
     },
     "metadata": {},
     "output_type": "display_data"
    }
   ],
   "source": [
    "#Plot pareto front in decision space\n",
    "plt.scatter([x[0] for x in res], [x[1] for x in res])\n",
    "plt.xlabel('x1')\n",
    "plt.ylabel('x2')\n",
    "plt.title('Pareto Front in Decision Space')\n",
    "plt.show()"
   ]
  },
  {
   "cell_type": "markdown",
   "id": "e1ff8630",
   "metadata": {},
   "source": [
    "<h3> Analyzing </h3>\n",
    "<p> From what we can see is that Pareto Front in both Decision- and Objective space is a eavenly spread straight line as it should be. From this we can interpret that the weighing method works as it should. We can also interpret that from this straight line it would be pretty hard to make good decisions. In this case we should also find out nadir and ideal vectors to help with decision making. Or use some kind of constraints to help with it. </p> "
   ]
  },
  {
   "cell_type": "markdown",
   "id": "05921bec",
   "metadata": {},
   "source": [
    "<h3> Problem 4 </h3>\n",
    "<p> For this problem we read a research paper \"A mixed-integer stochastic nonlinear optimization problem with joint probabilistic constraints\" by Thomas Arnold, René Henrior, Andris Möller, Stefan Vigerske </p> \n",
    "<li> https://oa.tib.eu/renate/bitstream/123456789/1690/1/750690720.pdf </li> \n",
    "<p> In this paper we have a stochastic nonlinear optimization problem that focuses on power management. In this paper a hydro power station and a wind farm is considered and generation of wind energy is assumed to be random. </p>\n",
    "<p> And from that we get the optimization problem as: </p>\n",
    "\n",
    "$$\n",
    "\\begin{equation}\n",
    "\\begin{aligned}\n",
    "\\begin{cases}\n",
    " \\max &  \\sum_{t = 1}^T \\pi_t y_t\\\\\n",
    "\\text{s.t.}   & P (x_t + \\xi_t ≥ d_t \\textit{ } \\forall t = 1,...,T) \\\\\n",
    "\\end{cases}\n",
    "\\end{aligned}\n",
    "\\end{equation}\n",
    "$$\n",
    "\n",
    "<p> Here we need to keep in mind that there should be more constraints, but I wanted to focus on the one with probability in this case. </p>"
   ]
  },
  {
   "cell_type": "code",
   "execution_count": 89,
   "id": "8a6a1a80",
   "metadata": {
    "scrolled": true
   },
   "outputs": [
    {
     "data": {
      "text/html": [
       "<div>\n",
       "<style scoped>\n",
       "    .dataframe tbody tr th:only-of-type {\n",
       "        vertical-align: middle;\n",
       "    }\n",
       "\n",
       "    .dataframe tbody tr th {\n",
       "        vertical-align: top;\n",
       "    }\n",
       "\n",
       "    .dataframe thead th {\n",
       "        text-align: right;\n",
       "    }\n",
       "</style>\n",
       "<table border=\"1\" class=\"dataframe\">\n",
       "  <thead>\n",
       "    <tr style=\"text-align: right;\">\n",
       "      <th></th>\n",
       "      <th>price</th>\n",
       "      <th>demand</th>\n",
       "      <th>func</th>\n",
       "    </tr>\n",
       "  </thead>\n",
       "  <tbody>\n",
       "    <tr>\n",
       "      <th>0</th>\n",
       "      <td>140.665968</td>\n",
       "      <td>126.522613</td>\n",
       "      <td>17797.425828</td>\n",
       "    </tr>\n",
       "    <tr>\n",
       "      <th>1</th>\n",
       "      <td>87.378186</td>\n",
       "      <td>89.243222</td>\n",
       "      <td>7797.910861</td>\n",
       "    </tr>\n",
       "    <tr>\n",
       "      <th>2</th>\n",
       "      <td>105.328713</td>\n",
       "      <td>140.460622</td>\n",
       "      <td>14794.536475</td>\n",
       "    </tr>\n",
       "    <tr>\n",
       "      <th>3</th>\n",
       "      <td>75.159999</td>\n",
       "      <td>120.111303</td>\n",
       "      <td>9027.565410</td>\n",
       "    </tr>\n",
       "    <tr>\n",
       "      <th>4</th>\n",
       "      <td>100.651811</td>\n",
       "      <td>125.165768</td>\n",
       "      <td>12598.161228</td>\n",
       "    </tr>\n",
       "  </tbody>\n",
       "</table>\n",
       "</div>"
      ],
      "text/plain": [
       "        price      demand          func\n",
       "0  140.665968  126.522613  17797.425828\n",
       "1   87.378186   89.243222   7797.910861\n",
       "2  105.328713  140.460622  14794.536475\n",
       "3   75.159999  120.111303   9027.565410\n",
       "4  100.651811  125.165768  12598.161228"
      ]
     },
     "execution_count": 89,
     "metadata": {},
     "output_type": "execute_result"
    }
   ],
   "source": [
    "#We will start by defying our variables and creating our dummy data for this problem\n",
    "#Our time is 2 full days, so 40 hours\n",
    "\n",
    "T = 40  # number of time periods\n",
    "mu = 100  # mean of the price and demand\n",
    "sigma = 20  # standard deviation of the price and demand\n",
    "\n",
    "pi = np.random.normal(mu, sigma, size=T).reshape(-1,1)\n",
    "d = np.random.normal(mu, sigma, size=T).reshape(-1,1)\n",
    "\n",
    "#Our objective function\n",
    "f = (pi[:,0] * d[:,0]).reshape(-1,1)\n",
    "\n",
    "raw_data = np.hstack((pi, d, f))\n",
    "\n",
    "X = [\"price\", \"demand\"]\n",
    "y = [\"func\"]\n",
    "\n",
    "#We can check how our data looks using pandas\n",
    "data = pd.DataFrame(raw_data, columns=X+y)\n",
    "data.head()"
   ]
  },
  {
   "cell_type": "code",
   "execution_count": 50,
   "id": "7ef0ca57",
   "metadata": {},
   "outputs": [
    {
     "data": {
      "text/plain": [
       "<matplotlib.collections.PathCollection at 0x7fefb1bd15b0>"
      ]
     },
     "execution_count": 50,
     "metadata": {},
     "output_type": "execute_result"
    },
    {
     "data": {
      "image/png": "[encoded data removed]",
      "text/plain": [
       "<Figure size 640x480 with 1 Axes>"
      ]
     },
     "metadata": {},
     "output_type": "display_data"
    }
   ],
   "source": [
    "#define the mean vector and covariance matrix\n",
    "mean = np.zeros(T)\n",
    "cov = np.eye(T)\n",
    "\n",
    "#generate random data from the multivariate normal distribution\n",
    "xi = np.random.multivariate_normal(mean, cov, size=T)\n",
    "plt.scatter([xi[0] for x in xi], [xi[1] for x in xi])"
   ]
  },
  {
   "cell_type": "code",
   "execution_count": 123,
   "id": "7d015d53",
   "metadata": {},
   "outputs": [],
   "source": [
    "#We will use DESDEO to solve this probelm\n",
    "# Define the objective function\n",
    "\n",
    "#def objective_function(x):\n",
    "#    return sum([pi[t]*x[t] for t in range(T)])\n",
    "\n",
    "# Define the constraint function\n",
    "def constraint_function(x):\n",
    "    return all([np.dot(x, xi[t]) >= d[t] for t in range(T)])\n",
    "\n",
    "# Define the decision variables\n",
    "nvars = T\n",
    "variable_bounds = [(0, 1)] * nvars\n",
    "\n",
    "const1 = _ScalarObjective(name=\"const1\", evaluator=constraint_function)\n",
    "constraint = [const1]\n",
    "\n",
    "#des = data.loc[:, ['price', 'demand']]\n",
    "#fs = data[\"func\"]\n",
    "#print(des.head(), fs.head())\n"
   ]
  },
  {
   "cell_type": "code",
   "execution_count": 161,
   "id": "260c96cb",
   "metadata": {},
   "outputs": [
    {
     "data": {
      "text/plain": [
       "<desdeo_problem.problem.Problem.DataProblem at 0x7fefb1d5bf10>"
      ]
     },
     "execution_count": 161,
     "metadata": {},
     "output_type": "execute_result"
    }
   ],
   "source": [
    "# Define the optimization problem as DataProblem\n",
    "#help(DataProblem)\n",
    "problem = DataProblem(data = data, objective_names = y, variable_names = X, constraints = constraint)\n",
    "problem"
   ]
  },
  {
   "cell_type": "code",
   "execution_count": 199,
   "id": "18b44806",
   "metadata": {},
   "outputs": [],
   "source": [
    "# We can then solve this with different optimization methods like Gaussian Process Regressor\n",
    "problem.train(GaussianProcessRegressor)\n",
    "#help(problem.evaluate)\n",
    "\n",
    "#problem.evaluate(decision_vectors , use_surrogate=True)\n",
    "#print(problem.ideal, problem.nadir)"
   ]
  },
  {
   "cell_type": "markdown",
   "id": "f3bc13b2",
   "metadata": {},
   "source": [
    "<h4> Analyzing the results </h4>\n",
    "<p> We made our problem into a DataProbelm using DESDEO framework. This problem can then be solved using different optimization methods like Gaussian Process Regressor. </p>"
   ]
  },
  {
   "cell_type": "code",
   "execution_count": null,
   "id": "2d507a71",
   "metadata": {},
   "outputs": [],
   "source": []
  }
 ],
 "metadata": {
  "kernelspec": {
   "display_name": "Python 3 (ipykernel)",
   "language": "python",
   "name": "python3"
  },
  "language_info": {
   "codemirror_mode": {
    "name": "ipython",
    "version": 3
   },
   "file_extension": ".py",
   "mimetype": "text/x-python",
   "name": "python",
   "nbconvert_exporter": "python",
   "pygments_lexer": "ipython3",
   "version": "3.9.13"
  }
 },
 "nbformat": 4,
 "nbformat_minor": 5
}
