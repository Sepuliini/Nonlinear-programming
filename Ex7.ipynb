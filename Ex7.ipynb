{
 "cells": [
  {
   "cell_type": "markdown",
   "id": "800ed2e8",
   "metadata": {},
   "source": [
    "<h2> Exercise 7 </h2>\n",
    "\n",
    "<h4> Task 1 </h4>\n",
    "<p> In this task we will be creating our own multiobjective optimization problem from our own life. </p>\n",
    "<p> Our problem is fitness goal multiobjective optimization problem</p>\n",
    "    \n",
    "Here we will consider three different things regarding our fitness goals:\n",
    "\n",
    "<li> Time spent building muscle. A function that relates the number of hours spent on strenght training </li>\n",
    "<li> Time spent at improvement of cardiovascular health. </li>\n",
    "<li> Time spent at losing weight. A nonlinear function that describes the trade-off between building muscle and losing weight. </li>\n",
    "\n",
    "<p> We will want to build muscle while also losing weight at the same time. These goals are in conflight with each other so we will have a constraint to take this into account. our contraint will ensure that the total amount of weight loss is no more than 10% of the total time spent on strength training. </p>\n",
    "\n",
    "<p> Our optimization problem will be as follows: </p>\n",
    "\n",
    "\n",
    "$$\n",
    "\\begin{equation}\n",
    "\\begin{aligned}\n",
    "\\begin{cases}\n",
    " \\max & \\{ x_1 \\textit{ , } x_2 \\textit{ , } \\frac{-x_3}{(1 + x_1)} \\} \\\\\n",
    "\\text{s.t.}   & x_1 + x_2 + x_3 ≤ T \\\\\n",
    " \\qquad  & x_3 ≤ 0.1 x_1 \\\\\n",
    "\\end{cases}\n",
    "\\end{aligned}\n",
    "\\end{equation}\n",
    "$$\n",
    "\n",
    "Where $T$ is the maximum time used for fitness activities\n",
    "\n",
    "<p> We can write this problem as follows: </p> \n",
    "\n",
    "$$\n",
    "\\begin{equation}\n",
    "\\begin{aligned}\n",
    "\\begin{cases}\n",
    "\\max  & f_1(x_1) = x_1 \\\\\n",
    "\\max & f_2(x_2) = x_2 \\\\\n",
    "\\max  & f_3(x_1, x_3) =  \\frac{-x_3}{(1 + x_1)} \\\\\n",
    "\\text{s.t.} \\qquad &  x_1 + x_2 + x_3 ≤ T \\\\\n",
    "   \\qquad  & x_3 ≤ 0.1 x_1 \\\\\n",
    "\\end{cases}\n",
    "\\end{aligned}\n",
    "\\end{equation}\n",
    "$$\n",
    "\n",
    "<p> And then make it into a minimization problem by multiplying all of the functions with $-1$: </p> \n",
    "\n",
    "$$\n",
    "\\begin{equation}\n",
    "\\begin{aligned}\n",
    "\\begin{cases}\n",
    "\\min  & f_1(x_1) = -x_1 \\\\\n",
    "\\min  & f_2(x_2) = -x_2 \\\\\n",
    "\\min  & f_3(x_1, x_3) =  \\frac{x_3}{(1 + x_1)} \\\\\n",
    "\\text{s.t.}  &  x_1 + x_2 + x_3 ≤ T \\\\\n",
    "    \\qquad  & x_3 ≤ 0.1 x_1 \\\\\n",
    "\\end{cases}\n",
    "\\end{aligned}\n",
    "\\end{equation}\n",
    "$$"
   ]
  },
  {
   "cell_type": "code",
   "execution_count": 49,
   "id": "8479c480",
   "metadata": {},
   "outputs": [],
   "source": [
    "#imports\n",
    "#!pip install desdeo\n",
    "import numpy as np\n",
    "import matplotlib.pyplot as plt\n",
    "from desdeo_problem import MOProblem, Variable, ScalarObjective, ScalarConstraint\n",
    "from desdeo_mcdm.utilities import payoff_table_method\n",
    "from desdeo_mcdm.interactive.NIMBUS import NIMBUS\n",
    "from desdeo_mcdm.utilities.solvers import solve_pareto_front_representation\n"
   ]
  },
  {
   "cell_type": "code",
   "execution_count": 96,
   "id": "761ca355",
   "metadata": {},
   "outputs": [],
   "source": [
    "#Functions\n",
    "def f_1(x: np.ndarray):\n",
    "    x = np.atleast_2d(x)\n",
    "    return -1 * (x[:,0])\n",
    "\n",
    "def f_2(x: np.ndarray):\n",
    "    x = np.atleast_2d(x)\n",
    "    return -1*(x[:,1])\n",
    "\n",
    "def f_3(x: np.ndarray):\n",
    "    x = np.atleast_2d(x)\n",
    "    return -1 * (-x[:,2] / (1 + x[:,0]))"
   ]
  },
  {
   "cell_type": "code",
   "execution_count": 97,
   "id": "fd80f6fe",
   "metadata": {},
   "outputs": [],
   "source": [
    "#Constraints\n",
    "const_func1 = lambda x,y: x[:,0] + x[:,1] + x[:,2] - 24 \n",
    "const_func2 = lambda x,y: x[:,2] - 0.1 * x[:,0]\n",
    "\n",
    "#Objectives functions\n",
    "f1 = ScalarObjective(name = \"f_1\", evaluator = f_1)\n",
    "f2 = ScalarObjective(name = \"f_2\", evaluator = f_2)\n",
    "f3 = ScalarObjective(name = \"f_3\", evaluator = f_3)\n",
    "\n",
    "#f4 = ScalarObjective(name = \"con1\", evaluator = constraint3)\n",
    "objectives = [f1, f2, f3]\n",
    "\n",
    "#help(Variable)\n",
    "x_1 = Variable(\"x_1\", 5 , 0. , 10.)\n",
    "x_2 = Variable(\"x_2\", 5 , 0. , 10.)\n",
    "x_3 = Variable(\"x_3\", 1 , 0. , 10. )\n",
    "variables = [x_1, x_2, x_3]\n",
    "\n",
    "#Constraints\n",
    "#help(ScalarConstraint)\n",
    "con2 = ScalarConstraint(\"con\", 3, 3, evaluator = const_func1)\n",
    "con1 = ScalarConstraint(\"con\", 3, 3, evaluator = const_func2)\n",
    "\n",
    "constraints = [con1, con2]"
   ]
  },
  {
   "cell_type": "code",
   "execution_count": 52,
   "id": "b5734be5",
   "metadata": {},
   "outputs": [
    {
     "name": "stderr",
     "output_type": "stream",
     "text": [
      "/Users/sepuliini/opt/anaconda3/lib/python3.9/site-packages/desdeo_problem/problem/Problem.py:1160: UserWarning: Some decision variable values violate upper bounds\n",
      "  warn(\"Some decision variable values violate upper bounds\")\n",
      "/Users/sepuliini/opt/anaconda3/lib/python3.9/site-packages/scipy/optimize/_hessian_update_strategy.py:182: UserWarning: delta_grad == 0.0. Check if the approximated function is linear. If the function is linear better results can be obtained by defining the Hessian as zero instead of using quasi-Newton approximations.\n",
      "  warn('delta_grad == 0.0. Check if the approximated '\n"
     ]
    },
    {
     "name": "stdout",
     "output_type": "stream",
     "text": [
      "Ideal:  [-9.99999895 -9.99999895  0.36374398]\n",
      "Nadir:  [-9.44319761 -7.54092058  0.82566808]\n"
     ]
    }
   ],
   "source": [
    "#Finding the ideal and nadir vectors without using constraints:\n",
    "mo_problem = MOProblem(variables = variables, objectives = objectives, constraints = constraints)\n",
    "\n",
    "# Compute the ideal and nadir points using payoff_table_method\n",
    "ideal, nadir = payoff_table_method(mo_problem)\n",
    "\n",
    "mo_problem.ideal = ideal\n",
    "mo_problem.nadir = nadir\n",
    "\n",
    "print(\"Ideal: \", mo_problem.ideal)\n",
    "print(\"Nadir: \", mo_problem.nadir)\n"
   ]
  },
  {
   "cell_type": "code",
   "execution_count": 98,
   "id": "c2cc7476",
   "metadata": {},
   "outputs": [
    {
     "data": {
      "image/png": "[encoded data removed]",
      "text/plain": [
       "<Figure size 640x480 with 1 Axes>"
      ]
     },
     "metadata": {},
     "output_type": "display_data"
    }
   ],
   "source": [
    "#Let's see the pareto front:\n",
    "#Pareto front without constraints\n",
    "p_front = solve_pareto_front_representation(mo_problem, step= .5)[1]\n",
    "plt.scatter(p_front[:, 0], p_front[:, 1], label=\"Pareto front\")\n",
    "plt.scatter(mo_problem.ideal[0], mo_problem.ideal[1], label=\"Ideal\")\n",
    "plt.scatter(mo_problem.nadir[0], mo_problem.nadir[1], label=\"Nadir\")\n",
    "plt.xlabel(\"f1\")\n",
    "plt.ylabel(\"f2\")\n",
    "plt.legend()\n",
    "plt.show()"
   ]
  },
  {
   "cell_type": "code",
   "execution_count": 78,
   "id": "fc60aea1",
   "metadata": {},
   "outputs": [
    {
     "name": "stdout",
     "output_type": "stream",
     "text": [
      "Please classify each of the objective values in one of the following categories:\n",
      "\t1. values should improve '<'\n",
      "\t2. values should improve until some desired aspiration level is reached '<='\n",
      "\t3. values with an acceptable level '='\n",
      "\t4. values which may be impaired until some upper bound is reached '>='\n",
      "\t5. values which are free to change '0'\n",
      "Provide the aspiration levels and upper bounds as a vector. For categories 1, 3, and 5,the value in the vector at the objective's position is ignored. Supply also the number of maximumsolutions to be generated.\n"
     ]
    },
    {
     "name": "stderr",
     "output_type": "stream",
     "text": [
      "/Users/sepuliini/opt/anaconda3/lib/python3.9/site-packages/desdeo_problem/problem/Problem.py:1160: UserWarning: Some decision variable values violate upper bounds\n",
      "  warn(\"Some decision variable values violate upper bounds\")\n"
     ]
    }
   ],
   "source": [
    "#Using NIMBUS method:\n",
    "nimbus = NIMBUS(mo_problem)\n",
    "classification_request, _ = nimbus.start()\n",
    "print(classification_request.content[\"message\"])"
   ]
  },
  {
   "cell_type": "code",
   "execution_count": 79,
   "id": "82792430",
   "metadata": {},
   "outputs": [
    {
     "name": "stdout",
     "output_type": "stream",
     "text": [
      "[-9.99978587 -9.99970832  0.36371585]\n"
     ]
    }
   ],
   "source": [
    "print(classification_request.content[\"objective_values\"])"
   ]
  },
  {
   "cell_type": "code",
   "execution_count": 80,
   "id": "673a5989",
   "metadata": {},
   "outputs": [
    {
     "name": "stdout",
     "output_type": "stream",
     "text": [
      "[None]\n"
     ]
    }
   ],
   "source": [
    "print(classification_request.content[\"classifications\"])"
   ]
  },
  {
   "cell_type": "code",
   "execution_count": 87,
   "id": "ac415a37",
   "metadata": {},
   "outputs": [],
   "source": [
    "response = {\n",
    "    \"classifications\": [\"0\", \"0\", \"<\"],\n",
    "    \"number_of_solutions\": 3,\n",
    "    \"levels\": [0. , 0. , 0.2]\n",
    "}\n",
    "classification_request.response = response"
   ]
  },
  {
   "cell_type": "code",
   "execution_count": 88,
   "id": "02fbcb9a",
   "metadata": {},
   "outputs": [],
   "source": [
    "save_request, plot_request = nimbus.iterate(classification_request)"
   ]
  },
  {
   "cell_type": "code",
   "execution_count": 89,
   "id": "17c0ae5d",
   "metadata": {},
   "outputs": [
    {
     "name": "stdout",
     "output_type": "stream",
     "text": [
      "dict_keys(['message', 'solutions', 'objectives', 'indices'])\n",
      "Please specify which solutions shown you would like to save for later viewing. Supply the indices of such solutions as a list, or supply an empty list if none of the shown solutions should be saved.\n",
      "[array([-9.99999885, -9.9999828 ,  0.36364109]), array([-9.99999876, -9.99999884,  0.36363664]), array([-9.99896859, -9.99850932,  0.36403439])]\n"
     ]
    }
   ],
   "source": [
    "print(save_request.content.keys())\n",
    "print(save_request.content[\"message\"])\n",
    "print(save_request.content[\"objectives\"])"
   ]
  },
  {
   "cell_type": "code",
   "execution_count": 90,
   "id": "42cce995",
   "metadata": {},
   "outputs": [],
   "source": [
    "#Let's say that the choices 0,1 and 2 are the best ones.\n",
    "response = {\"indices\": [0,2]}\n",
    "save_request.response = response\n",
    "\n",
    "intermediate_request, plot_request = nimbus.iterate(save_request)"
   ]
  },
  {
   "cell_type": "code",
   "execution_count": 91,
   "id": "f8257ab6",
   "metadata": {},
   "outputs": [
    {
     "name": "stdout",
     "output_type": "stream",
     "text": [
      "dict_keys(['message', 'solutions', 'objectives', 'indices', 'number_of_desired_solutions'])\n",
      "Would you like to see intermediate solutions between two previously computed solutions? If so, please supply two indices corresponding to the solutions.\n"
     ]
    }
   ],
   "source": [
    "print(intermediate_request.content.keys())\n",
    "print(intermediate_request.content[\"message\"])"
   ]
  },
  {
   "cell_type": "code",
   "execution_count": 92,
   "id": "cd57cd1f",
   "metadata": {},
   "outputs": [],
   "source": [
    "response = {\"number_of_desired_solutions\": 0, \"indices\": []}\n",
    "intermediate_request.response = response\n",
    "\n",
    "preferred_request, plot_request = nimbus.iterate(intermediate_request)"
   ]
  },
  {
   "cell_type": "code",
   "execution_count": 104,
   "id": "65761200",
   "metadata": {},
   "outputs": [
    {
     "data": {
      "image/png": "[encoded data removed]",
      "text/plain": [
       "<Figure size 640x480 with 1 Axes>"
      ]
     },
     "metadata": {},
     "output_type": "display_data"
    }
   ],
   "source": [
    "#plt.scatter(p_front[:, 0], p_front[:, 1], label=\"Pareto front\")\n",
    "#plt.scatter(mo_problem.ideal[0], mo_problem.ideal[1], label=\"Ideal\")\n",
    "#plt.scatter(mo_problem.nadir[0], mo_problem.nadir[1], label=\"Nadir\")\n",
    "for i, z in enumerate(preferred_request.content[\"objectives\"]):\n",
    "    plt.scatter(z[0], z[1], label=f\"solution {i}\")\n",
    "plt.xlabel(\"f1\")\n",
    "plt.ylabel(\"f2\")\n",
    "plt.title(\"Approximate Pareto front of our problem\")\n",
    "plt.legend()\n",
    "plt.show()"
   ]
  },
  {
   "cell_type": "code",
   "execution_count": 95,
   "id": "e6df1efa",
   "metadata": {},
   "outputs": [],
   "source": [
    "#In this case interpreting the optimal solution is hard. Biggest problem with this was that my\n",
    "#optimization function was not that good. \n",
    "#We can still see that in this case the solution 1 is the worst one. Solution 0 and 2 are really close to ideal."
   ]
  },
  {
   "cell_type": "code",
   "execution_count": null,
   "id": "9b3ed319",
   "metadata": {},
   "outputs": [],
   "source": []
  }
 ],
 "metadata": {
  "kernelspec": {
   "display_name": "Python 3 (ipykernel)",
   "language": "python",
   "name": "python3"
  },
  "language_info": {
   "codemirror_mode": {
    "name": "ipython",
    "version": 3
   },
   "file_extension": ".py",
   "mimetype": "text/x-python",
   "name": "python",
   "nbconvert_exporter": "python",
   "pygments_lexer": "ipython3",
   "version": "3.9.13"
  }
 },
 "nbformat": 4,
 "nbformat_minor": 5
}
