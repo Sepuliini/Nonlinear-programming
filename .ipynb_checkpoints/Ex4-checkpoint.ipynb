{
 "cells": [
  {
   "cell_type": "code",
   "execution_count": 1,
   "id": "e403fd06",
   "metadata": {},
   "outputs": [],
   "source": [
    "import scipy\n",
    "from scipy.optimize import minimize\n",
    "%matplotlib inline\n",
    "import numpy as np\n",
    "import math\n",
    "import matplotlib.pyplot as plt\n",
    "import ad"
   ]
  },
  {
   "cell_type": "markdown",
   "id": "04f086c8",
   "metadata": {},
   "source": [
    "<h2> Exercise 4 </h2>\n",
    "<p> For tasks 1-3, we study the optimization problem: </p>\n",
    "\n",
    "$$  \\min \\qquad x_1^2 + x_2^2 + x_1 + 2x_2 $$\n",
    "$$\\text{s.t.} \\qquad \\qquad x_1 + x_2 = 1 $$\n",
    "$$\\qquad \\qquad \\qquad x_1 \\text{,} x_2 \\in R $$"
   ]
  },
  {
   "cell_type": "markdown",
   "id": "d8c9de11",
   "metadata": {},
   "source": [
    "<h4> Task 1 </h4>\n",
    "<p> We will solve the problem using the penalty function method </p>"
   ]
  },
  {
   "cell_type": "markdown",
   "id": "3648e2ea",
   "metadata": {},
   "source": [
    "<p> Let's first define $ x_1 + x_2 = 1 $ as $ x_1 + x_2 - 1 = 0 $</p> "
   ]
  },
  {
   "cell_type": "code",
   "execution_count": 2,
   "id": "c81004b0",
   "metadata": {},
   "outputs": [],
   "source": [
    "# Now we can define our function as follows:\n",
    "def f(x):\n",
    "    return x[0]**2 + x[1]**2 + x[0] + 2*x[1], [], [x[0] + x[1] - 1]"
   ]
  },
  {
   "cell_type": "code",
   "execution_count": 3,
   "id": "c636dc0f",
   "metadata": {},
   "outputs": [],
   "source": [
    "# Define alpha as (from lectures):\n",
    "def alpha(x,f):\n",
    "    (_,ieq,eq) = f(x)\n",
    "    return sum([min([0,ieq_j])**2 for ieq_j in ieq]) + sum([eq_k**2 for eq_k in eq])"
   ]
  },
  {
   "cell_type": "code",
   "execution_count": 4,
   "id": "3e414f68",
   "metadata": {},
   "outputs": [],
   "source": [
    "# Penalized function (from lectures):\n",
    "def penalized(x,f,r):\n",
    "    return f(x)[0] + r*alpha(x,f)"
   ]
  },
  {
   "cell_type": "code",
   "execution_count": 5,
   "id": "90ef0e92",
   "metadata": {},
   "outputs": [
    {
     "name": "stdout",
     "output_type": "stream",
     "text": [
      "res:   final_simplex: (array([[0.7493755 , 0.24936674],\n",
      "       [0.74927764, 0.24946301],\n",
      "       [0.74938422, 0.24934906]]), array([1.87342411, 1.87342412, 1.87342414]))\n",
      "           fun: 1.873424113587993\n",
      "       message: 'Optimization terminated successfully.'\n",
      "          nfev: 43\n",
      "           nit: 22\n",
      "        status: 0\n",
      "       success: True\n",
      "             x: array([0.7493755 , 0.24936674])\n",
      "Solution is:  0.749375503433799 , 0.24936673550903682\n",
      "r:  1001\n",
      "iter:  100\n"
     ]
    }
   ],
   "source": [
    "# Hint for this task was that we should not use r as fixed value\n",
    "# So we cant just use:\n",
    "#res = minimize(lambda x:penalized(x,f,r), x_old, method='Nelder-Mead')\n",
    "# where r = some fixed number\n",
    "\n",
    "# Let's make a loop and add 10 to r every time: \n",
    "\n",
    "r = 1 # We will start with r = 1\n",
    "precision = 0.0001\n",
    "a = np.array([float('inf')])\n",
    "#starting point at -1,1\n",
    "b = [-1,1]\n",
    "steplist_penalty = []\n",
    "iter0 = 0\n",
    "while iter0 < 100:\n",
    "    a = b\n",
    "    res = minimize(lambda x:penalized(x,f,r), a, method='Nelder-Mead', options={'disp': False})\n",
    "    b = np.array(res.x)\n",
    "    r = r + 10\n",
    "    iter0 = iter0 + 1\n",
    "    steplist_penalty.append(list(b))\n",
    "print(\"res: \", res)\n",
    "print(\"Solution is: \", b[0], \",\", b[1])\n",
    "print(\"r: \", r)\n",
    "print(\"iter: \", iter0)"
   ]
  },
  {
   "cell_type": "markdown",
   "id": "3b7a5685",
   "metadata": {},
   "source": [
    "<h4> Task 2 </h4>\n",
    "<p> We solve the problem (i.e., approximate the optimal solution) using the barrier function method. </p>\n",
    "<p> For this to work we need to convert our equality constraint into an inequality constraint</p>\n",
    "\n",
    "Let\n",
    "$$ s ≥ 0 $$ \n",
    "be our slack variable.\n",
    "So now we can define our inequalities as:\n",
    "$$\\qquad \\qquad x_1 + x_2 - 1 - s ≤ 0 $$\n",
    "$$\\qquad \\qquad  -x_1 - x_2 + 1 + s ≥ 0 $$"
   ]
  },
  {
   "cell_type": "code",
   "execution_count": 6,
   "id": "2c13c127",
   "metadata": {},
   "outputs": [],
   "source": [
    "def f_ineq(x, s):\n",
    "    return x[0]**2 + x[1]**2 + x[0] + 2*x[1], [x[0] + x[1] -1 + s, -x[0] - x[1] + 1 + s], []"
   ]
  },
  {
   "cell_type": "code",
   "execution_count": 7,
   "id": "c88b0166",
   "metadata": {},
   "outputs": [],
   "source": [
    "# Define beta as (from lectures):\n",
    "def beta(x,f):\n",
    "    _,ieq,_ = f(x)\n",
    "    try:\n",
    "        value=sum([1/max([0,ieq_j]) for ieq_j in ieq])\n",
    "    except ZeroDivisionError:\n",
    "        value = float(\"inf\")\n",
    "    return value "
   ]
  },
  {
   "cell_type": "code",
   "execution_count": 8,
   "id": "7eab2df6",
   "metadata": {},
   "outputs": [],
   "source": [
    "# Define barrier as (from lectures): \n",
    "def barrier(x,f,r):\n",
    "    return f(x)[0] + r*beta(x,f)"
   ]
  },
  {
   "cell_type": "code",
   "execution_count": 9,
   "id": "b52ade45",
   "metadata": {},
   "outputs": [
    {
     "name": "stdout",
     "output_type": "stream",
     "text": [
      "res:   final_simplex: (array([[0.74991813, 0.25008187],\n",
      "       [0.74991813, 0.25008187],\n",
      "       [0.74991813, 0.25008187]]), array([1.2676506e+33, 1.2676506e+33, 1.2676506e+33]))\n",
      "           fun: 1.2676506002282294e+33\n",
      "       message: 'Optimization terminated successfully.'\n",
      "          nfev: 198\n",
      "           nit: 51\n",
      "        status: 0\n",
      "       success: True\n",
      "             x: array([0.74991813, 0.25008187])\n",
      "Solution is:  0.7499181304353058 , 0.25008186956469436\n",
      "iter:  100\n"
     ]
    }
   ],
   "source": [
    "s = 0.1 # Our slack variable\n",
    "r = 1 # We will start with r = 1\n",
    "precision = 0.0001\n",
    "a = np.array([float('inf')])\n",
    "#starting point at 10,-10\n",
    "b = [10,-10]\n",
    "steplist_barrier = []\n",
    "iter1 = 0\n",
    "while iter1 < 100:\n",
    "    res = minimize(lambda x:barrier(x, lambda a:f_ineq(a,s), r),b,method='Nelder-Mead',options={'disp': False})\n",
    "    a = b\n",
    "    b = res.x\n",
    "    r = r+1\n",
    "    s = s/2\n",
    "    steplist_barrier.append(list(b))\n",
    "    iter1 = iter1 +1\n",
    "print(\"res: \", res)\n",
    "print(\"Solution is: \", b[0], \",\", b[1])\n",
    "print(\"iter: \", iter1)"
   ]
  },
  {
   "cell_type": "markdown",
   "id": "eabfd0de",
   "metadata": {},
   "source": [
    "<h4> Task 3 </h4>\n",
    "<p> We will solve the problem using the projected gradient method. </p>"
   ]
  },
  {
   "cell_type": "code",
   "execution_count": 10,
   "id": "f6c39f86",
   "metadata": {},
   "outputs": [],
   "source": [
    "#From lectures\n",
    "def project_vector(A,vector):\n",
    "    #convert A into a matrix\n",
    "    A_matrix = np.matrix(A)\n",
    "    #construct the \"first row\" of the matrix [[I,A^T],[A,0]]\n",
    "    left_matrix_first_row = np.concatenate((np.identity(len(vector)),A_matrix.transpose()), axis=1)\n",
    "    #construct the \"second row\" of the matrix\n",
    "    left_matrix_second_row = np.concatenate((A_matrix,np.matrix(np.zeros([len(A),len(A)]))), axis=1)\n",
    "    #combine the whole matrix by combining the rows\n",
    "    left_matrix = np.concatenate((left_matrix_first_row,left_matrix_second_row),axis = 0)\n",
    "    #Solve the system of linear equalities from the previous page\n",
    "    return np.linalg.solve(left_matrix, \\\n",
    "                           np.concatenate((np.matrix(vector).transpose(),\\\n",
    "                                           np.zeros([len(A),1])),axis=0))[:len(vector)] "
   ]
  },
  {
   "cell_type": "code",
   "execution_count": 11,
   "id": "5372cf02",
   "metadata": {},
   "outputs": [],
   "source": [
    "#From lectures\n",
    "def projected_gradient_method(f,A,start,step,precision):\n",
    "    f_old = float('Inf')\n",
    "    x = np.array(start)\n",
    "    steplist_gradient = []\n",
    "    f_new = f(x)\n",
    "    iters = 0\n",
    "    while abs(f_old-f_new)>precision:\n",
    "        # store the current function value\n",
    "        f_old = f_new\n",
    "        # compute gradient\n",
    "        gradient = ad.gh(f)[0](x)\n",
    "        # project negative gradient\n",
    "        d = project_vector(A,[-i for i in gradient])\n",
    "        # take transpose\n",
    "        d = d.reshape(1,-1)\n",
    "        # take step\n",
    "        x = np.array(x + step*d)[0]\n",
    "        # compute f in new point+ \n",
    "        f_new = f(x)\n",
    "        # record new step\n",
    "        steplist_gradient.append(x)\n",
    "        # update iterations counter\n",
    "        iters = iters + 1\n",
    "    return x,f_new,steplist_gradient,iters"
   ]
  },
  {
   "cell_type": "code",
   "execution_count": 12,
   "id": "9c49788d",
   "metadata": {},
   "outputs": [
    {
     "name": "stdout",
     "output_type": "stream",
     "text": [
      "[0.74135309 0.25864691]\n"
     ]
    }
   ],
   "source": [
    "A = [[1,1]]\n",
    "start = [0,1]\n",
    "(x,f_val,steps,iters) = projected_gradient_method(lambda x:f(x)[0],A,start,0.10,0.0001)\n",
    "print(x)"
   ]
  },
  {
   "cell_type": "markdown",
   "id": "e57e9735",
   "metadata": {},
   "source": [
    "<p> Now let's compare this to the performance of the penalty function used at task1 and barrier function methods from task 2"
   ]
  },
  {
   "cell_type": "code",
   "execution_count": 13,
   "id": "48ce0c85",
   "metadata": {},
   "outputs": [
    {
     "data": {
      "image/png": "[encoded data removed]",
      "text/plain": [
       "<Figure size 640x480 with 3 Axes>"
      ]
     },
     "metadata": {},
     "output_type": "display_data"
    }
   ],
   "source": [
    "#Plotting functions steps\n",
    "start = [-10,10]\n",
    "#Plot of my function from task 1:\n",
    "plt.subplot(1, 3, 1)\n",
    "vector = np.array([start] + steplist_penalty).transpose()\n",
    "plt.title(\"Penalty method\")\n",
    "plt.plot(vector[0,], vector[1,], 'ro')\n",
    "\n",
    "plt.subplot(1, 3, 2)\n",
    "vector1 = np.array([start] + steplist_barrier).transpose()\n",
    "plt.title(\"Barrier method\")\n",
    "plt.plot(vector1[0,], vector1[1,], 'bo')\n",
    "\n",
    "plt.subplot(1, 3, 3)\n",
    "vector2 = np.array([start] + steps).transpose()\n",
    "plt.title(\"Gradient method\")\n",
    "plt.plot(vector2[0,], vector2[1,], 'co')\n",
    "\n",
    "plt.show()"
   ]
  },
  {
   "cell_type": "markdown",
   "id": "b72bf784",
   "metadata": {},
   "source": [
    "<h4> Task 4 </h4>\n",
    "<p> Let's check the necessary first-order KKT conditions for the solution. </p>"
   ]
  },
  {
   "cell_type": "markdown",
   "id": "32f74bf8",
   "metadata": {},
   "source": [
    "Let's define the Lagrangian function\n",
    "$$ 𝐿(𝑥,𝜇,𝜆)=f(x)−𝜇_1h(x) - 𝜆_1g(x) $$\n",
    "And we will get:\n",
    "$$ 𝐿(𝑥,𝜇,𝜆)=(x_1^2 + x_2^2 + x_1 + 2x_2)−𝜇(0) - 𝜆(x_1 + x_2 - 1) $$\n",
    "\n",
    "We need to solve a system of equations as:\n",
    "\n",
    "$$\n",
    "\\begin{cases}\n",
    "f_{x_1} = 𝜆g_{x_1}\\\\ \n",
    "f_{x_2} = 𝜆g_{x_2} \n",
    "\\end{cases}\n",
    "$$\n",
    "\n",
    "Let's calculate the partial derivatives:\n",
    "\n",
    "$$ \\frac{\\partial f}{\\partial x_1} = 2x_1 + 1 $$\n",
    "$$ $$\n",
    "$$ \\frac{\\partial f}{\\partial x_2} = 2x_2 + 2 $$\n",
    "\n",
    "And then the partial derivatives for $g(x)$:\n",
    "\n",
    "$$ \\frac{\\partial g}{\\partial x_1} = 1 $$\n",
    "$$ $$\n",
    "$$ \\frac{\\partial g}{\\partial x_2} = 1 $$\n",
    "\n",
    "Thus we will get:\n",
    "$$\n",
    "\\begin{cases}\n",
    "2x_1 + 1 = 𝜆 \\\\ \n",
    "2x_2 + 2 = 𝜆  \n",
    "\\end{cases}\n",
    "$$\n"
   ]
  },
  {
   "cell_type": "code",
   "execution_count": 33,
   "id": "668f1738",
   "metadata": {},
   "outputs": [
    {
     "name": "stdout",
     "output_type": "stream",
     "text": [
      "Penalty method with precision of:  0.0001 is correct\n",
      "Barrier method with precision of:  0.001 is correct\n",
      "Gradient method with precision of:  0.1 is correct\n"
     ]
    }
   ],
   "source": [
    "res_penalty = [0.749375503433799,0.24936673550903682]\n",
    "res_barrier = [0.7499181304353058 , 0.25008186956469436]\n",
    "res_gradient = [0.74135309,0.25864691]\n",
    "precision_penalty = 0.0001\n",
    "precision_barrier = 0.001\n",
    "precision_gradient = 0.1\n",
    "\n",
    "lambdax1_penalty = 2*res_penalty[0] + 1\n",
    "lambdax2_penalty = 2*res_penalty[1] + 2\n",
    "\n",
    "lambdax1_barrier = 2*res_barrier[0] + 1\n",
    "lambdax2_barrier = 2*res_barrier[1] + 2\n",
    "\n",
    "lambdax1_gradient = 2*res_gradient[0] + 1\n",
    "lambdax2_gradient = 2*res_gradient[1] + 2\n",
    "\n",
    "\n",
    "if abs(lambdax2_penalty - lambdax1_penalty) <= precision_penalty:\n",
    "    print(\"Penalty method with precision of: \", precision_penalty, \"is correct\")\n",
    "else:\n",
    "    print(\"Penalty method with precision of: \", precision_penalty, \"is not correct\")\n",
    "    \n",
    "    \n",
    "if abs(lambdax2_barrier - lambdax1_barrier) <= precision_barrier:\n",
    "    print(\"Barrier method with precision of: \", precision_barrier, \"is correct\")\n",
    "else:\n",
    "    print(\"Barrier method with precision of: \", precision_barrier, \"is not correct\")\n",
    "    \n",
    "    \n",
    "if abs(lambdax2_gradient - lambdax1_gradient) <= precision_gradient:\n",
    "    print(\"Gradient method with precision of: \", precision_gradient, \"is correct\")\n",
    "else:\n",
    "    print(\"Gradient method with precision of: \", precision_gradient, \"is not correct\")"
   ]
  },
  {
   "cell_type": "code",
   "execution_count": null,
   "id": "8b083ee9",
   "metadata": {},
   "outputs": [],
   "source": []
  }
 ],
 "metadata": {
  "kernelspec": {
   "display_name": "Python 3 (ipykernel)",
   "language": "python",
   "name": "python3"
  },
  "language_info": {
   "codemirror_mode": {
    "name": "ipython",
    "version": 3
   },
   "file_extension": ".py",
   "mimetype": "text/x-python",
   "name": "python",
   "nbconvert_exporter": "python",
   "pygments_lexer": "ipython3",
   "version": "3.9.13"
  }
 },
 "nbformat": 4,
 "nbformat_minor": 5
}
