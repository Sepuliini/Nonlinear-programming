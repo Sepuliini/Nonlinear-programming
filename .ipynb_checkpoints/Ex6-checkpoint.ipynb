{
 "cells": [
  {
   "cell_type": "code",
   "execution_count": 1,
   "id": "9a543281",
   "metadata": {},
   "outputs": [],
   "source": [
    "import numpy as np\n",
    "import ad\n",
    "from scipy.optimize import minimize\n",
    "from scipy.optimize import minimize_scalar\n",
    "import matplotlib.pyplot as plt\n",
    "from mpl_toolkits.mplot3d import Axes3D\n",
    "%matplotlib inline"
   ]
  },
  {
   "cell_type": "markdown",
   "id": "5435e27b",
   "metadata": {},
   "source": [
    "<h2> Exercise 6 </h2>\n",
    "\n",
    "<break>\n",
    "<h4> Task 1 </h4>\n",
    "<p> In this task we will study multiobjective optimization problem:: </p>\n",
    "    \n",
    "   \n",
    "\n",
    "$$\n",
    "\\begin{equation}\n",
    "\\begin{aligned}\n",
    "   \\min & \\{ \\| x - (1,0) \\|^2 , \\| x- (0,1) \\|^2 \\} \\\\\n",
    " \\qquad  \\text{s.t.} & \\qquad x \\in R^2 \n",
    "\\end{aligned}\n",
    "\\end{equation}\n",
    "$$\n",
    "\n",
    "\n",
    " \n",
    "\n",
    "\n",
    "<p> And find the full set of Pareto optimal solutions. </p>"
   ]
  },
  {
   "cell_type": "markdown",
   "id": "3721c8cf",
   "metadata": {},
   "source": [
    "<p> We can write our optimization probel as follows:  </p>\n",
    "\n",
    "$$\n",
    "\\begin{equation}\n",
    "\\begin{aligned}\n",
    "\\min \\qquad & f_1(x) = \\| x - (1,0) \\|^2 \\\\\n",
    "\\min \\qquad & f_2(x) = \\| x - (0,1) \\|^2 \\\\\n",
    "\\text{s.t.} \\qquad & x \\in R^2\n",
    "\\end{aligned}\n",
    "\\end{equation}\n",
    "$$\n",
    "<p> We can see that $f_1(x)$ has a minimum at (1,0) and $f_2(x)$ has a minimum at (0,1) </p>\n",
    "\n",
    "\n",
    "<p> We can start by considering the solutions that lie on the line joining the two points $(1,0)$ and $(0,1)$. </p>\n",
    "<p> We can define a line as: </p>\n",
    "$$ \\{(x_1, x_2), x_1 + x_2 = 1, x_1 \\in [0,1], x_2 ≤ 1 \\} $$\n",
    "and from here we get:\n",
    "$$ x_2 = 1 - x_1 $$\n",
    "\n",
    "<p> We can define a set of points that are on this line as $A = \\{(a, 1-a): a \\in [0,1]\\}$. </p>\n",
    "<p> Any solution in set A will achieves the minimum for other function while at the same time achieving a larger value for the other one thus A is the pareto optimal set for our problem. </p>"
   ]
  },
  {
   "cell_type": "markdown",
   "id": "f7172f9f",
   "metadata": {},
   "source": [
    "<h4> Task 2 </h4>\n",
    "\n",
    "Let's start by calculating the ideal for our optimization probel from above.\n",
    "\n",
    "At task 1 we defined our function as:\n",
    "\n",
    "$$\n",
    "\\begin{equation}\n",
    "\\begin{aligned}\n",
    "\\min \\qquad & f_1(x) = \\| x - (1,0) \\|^2 \\\\\n",
    "\\min \\qquad & f_2(x) = \\| x - (0,1) \\|^2 \\\\\n",
    "\\text{s.t.} \\qquad & x \\in R^2\n",
    "\\end{aligned}\n",
    "\\end{equation}\n",
    "$$\n",
    "<p> \n",
    "The solution for $f_1(x)$ is $x = (1,0)$ because $(1,0) - (1,0) = 0$.\n",
    "For the second function $f_2(x)$ the solution is $ x = (0,1)$ because $(0,1) - (0,1) = 0$.\n",
    "So the ideal for our probel is $(0,0)$ </p>\n",
    "\n",
    "<p> Next let's calculate the nadir vector: </p>\n",
    "\n",
    "$$\n",
    "\\begin{equation}\n",
    "\\begin{aligned}\n",
    "\\qquad & f_1(x) = \\| x - (1,0) \\|^2 = (x_1-1)^2 + x_2^2\\\\\n",
    "\\qquad & f_2(x) = \\| x - (0,1) \\|^2 = x_1^2 + (x_2-1)^2 \\\\\n",
    "\\end{aligned}\n",
    "\\end{equation}\n",
    "$$\n",
    "\n",
    "<p> Because the other functin grows when other gets smaller we get two optimization problems as: </p> \n",
    "\n",
    "\n",
    "$$\n",
    "\\begin{equation}\n",
    "\\begin{aligned}\n",
    "\\min \\qquad & -f_1(x) = (x_1-1)^2 + x_2^2\\\\\n",
    "\\text{s.t.} \\qquad & f_2(x) ≤ (0,0) \n",
    "\\end{aligned}\n",
    "\\end{equation}\n",
    "$$\n",
    "\n",
    "and the other optimization problem:\n",
    "\n",
    "$$\n",
    "\\begin{equation}\n",
    "\\begin{aligned}\n",
    "\\min \\qquad & -f_2(x) = x_1^2 + (x_2-1)^2\\\\\n",
    "\\text{s.t.} \\qquad & f_1(x) ≤ (0,0) \n",
    "\\end{aligned}\n",
    "\\end{equation}\n",
    "$$"
   ]
  },
  {
   "cell_type": "markdown",
   "id": "8e0e59dc",
   "metadata": {},
   "source": [
    "<p> We will take the negative of our function because we are minimizing but in reality we need the maximum, because we want the worst case scenario. </p>"
   ]
  },
  {
   "cell_type": "code",
   "execution_count": 2,
   "id": "0d63df25",
   "metadata": {},
   "outputs": [
    {
     "name": "stdout",
     "output_type": "stream",
     "text": [
      "f1:       fun: -1.9999761566271175\n",
      " message: 'Solution found.'\n",
      "    nfev: 25\n",
      "     nit: 25\n",
      "  status: 0\n",
      " success: True\n",
      "       x: 5.9608609865491405e-06\n",
      "f2:       fun: -1.9999761566271175\n",
      " message: 'Solution found.'\n",
      "    nfev: 25\n",
      "     nit: 25\n",
      "  status: 0\n",
      " success: True\n",
      "       x: 0.9999940391390134\n",
      "Nadir vector: [1.99997616 1.99997616]\n"
     ]
    }
   ],
   "source": [
    "# Define the functions\n",
    "def f1(x):\n",
    "    return np.sum((x - np.array([1,0]))**2)\n",
    "\n",
    "def f2(x):\n",
    "    return np.sum((x - np.array([0,1]))**2)\n",
    "\n",
    "# Define the constraint\n",
    "def constraint(x):\n",
    "    return np.array([1, 1]) - x\n",
    "\n",
    "# Find the maximum values of the objective functions\n",
    "f1 = minimize_scalar(lambda x: -f1([x, 1-x]), bounds=(0, 1), method='bounded')\n",
    "f2 = minimize_scalar(lambda x: -f2([x, 1-x]), bounds=(0, 1), method='bounded')\n",
    "print(\"f1: \", f1)\n",
    "print(\"f2: \", f2)\n",
    "nadir = np.array([-f1.fun, -f2.fun])\n",
    "\n",
    "print(\"Nadir vector:\", nadir)"
   ]
  },
  {
   "cell_type": "markdown",
   "id": "f3ad5323",
   "metadata": {},
   "source": [
    "<p> With some simple optimization we can see that the nadir vector for our optimization problem is $(2,2)$ </p>"
   ]
  },
  {
   "cell_type": "markdown",
   "id": "de0a0ead",
   "metadata": {},
   "source": [
    "<h4> Task 3. </h4>\n",
    "<p> Try to generate a representative set of Pareto optimal solutions using the weighting method for the above bi-objective problem. Compare this set to the set of Pareto optimal solutions from task 1. What do you notice? </p>"
   ]
  },
  {
   "cell_type": "code",
   "execution_count": 3,
   "id": "4ffb1357",
   "metadata": {},
   "outputs": [],
   "source": [
    "#let's start by defining our function\n",
    "#(x_1 - 1)^2 + x_2^2, x_1^2 + (x_2 - 1)^2\n",
    "def f(x):\n",
    "    return [(x[0] - 1)**2 + x[1]**2, x[0]**2 + (x[1]-1)**2]"
   ]
  },
  {
   "cell_type": "code",
   "execution_count": 4,
   "id": "12976379",
   "metadata": {},
   "outputs": [],
   "source": [
    "w = np.random.random ((3000,2)) #Need to change weights here\n",
    "# normalize the weights\n",
    "wn = w\n",
    "for i in range(len(w)):\n",
    "    s = sum(w[i])\n",
    "    for j in range(2):\n",
    "        wn[i][j] = w[i][j]/s"
   ]
  },
  {
   "cell_type": "code",
   "execution_count": 5,
   "id": "9e32ee68",
   "metadata": {},
   "outputs": [],
   "source": [
    "#From the lectures we get the function for weighing method as:\n",
    "def weighting_method(f,w):\n",
    "    start = [0,0] #starting values for the variables \n",
    "    points = []\n",
    "    for wi in w:\n",
    "        res=minimize(\n",
    "            #weighted sum\n",
    "            lambda x: sum(np.array(wi)*np.array(f(x))), \n",
    "            start, method='SLSQP',\n",
    "            #Jacobian using automatic differentiation\n",
    "            jac=ad.gh(lambda x: sum(np.array(wi)*np.array(f(x))))[0])\n",
    "        points.append(res.x)\n",
    "    return points"
   ]
  },
  {
   "cell_type": "code",
   "execution_count": 6,
   "id": "4ebf9ee9",
   "metadata": {},
   "outputs": [
    {
     "name": "stdout",
     "output_type": "stream",
     "text": [
      "head:  [array([0.45644773, 0.54355227]), array([0.42041059, 0.57958941]), array([0.61107553, 0.38892447]), array([0.34923818, 0.65076182]), array([0.42289117, 0.57710883]), array([0.5821866, 0.4178134]), array([0.95686255, 0.04313745]), array([0.12340814, 0.87659186]), array([0.07010581, 0.92989419]), array([0.15725195, 0.84274805])]\n",
      "\n",
      "tail:  [array([0.24179535, 0.75820465]), array([0.21684024, 0.78315976]), array([0.36238, 0.63762]), array([0.07682525, 0.92317475]), array([0.19584814, 0.80415186]), array([0.50643929, 0.49356071]), array([0.37189858, 0.62810142]), array([0.28392414, 0.71607586]), array([0.60032543, 0.39967457]), array([0.39674494, 0.60325506])]\n"
     ]
    }
   ],
   "source": [
    "res = weighting_method(f,wn)\n",
    "print(\"head: \", res[:10])\n",
    "print()\n",
    "print(\"tail: \", res[-10:])"
   ]
  },
  {
   "cell_type": "code",
   "execution_count": 10,
   "id": "ea5d8825",
   "metadata": {},
   "outputs": [
    {
     "data": {
      "image/png": "[encoded data removed]",
      "text/plain": [
       "<Figure size 640x480 with 1 Axes>"
      ]
     },
     "metadata": {},
     "output_type": "display_data"
    }
   ],
   "source": [
    "plt.scatter([x[0] for x in res], [x[1] for x in res])\n",
    "plt.show()"
   ]
  },
  {
   "cell_type": "markdown",
   "id": "6d7cab69",
   "metadata": {},
   "source": [
    "<p> We can see that the method works and prints out the whole Pareto optimal set that we defined in task 1. </p>\n",
    "<p> The pareto optimal set was:  </p>\n",
    "\n",
    "$A = \\{(a, 1-a): a \\in [0,1]\\}$ which is a straight line from point $(0,1)$ to $(1,0)$"
   ]
  },
  {
   "cell_type": "markdown",
   "id": "7f5223ae",
   "metadata": {},
   "source": [
    "<h4> Task 4 </h4>\n",
    "<p> In this task we will show that: </p>\n",
    "    \n",
    "<p> A. an optimal solution to the achievement scalarizing problem is also the Pareto optimal, and </p>\n",
    "\n",
    "<p> B. - </p>"
   ]
  },
  {
   "cell_type": "markdown",
   "id": "f74c7364",
   "metadata": {},
   "source": [
    "<h5> A </h5>\n",
    "<p> If $x^*$ is not the pareto optimal solution to achievement scalarizing problem, then there needs to exist pareto optimal set A so that: </p>\n",
    "\n",
    "\n",
    "$$\n",
    "\\begin{equation}\n",
    "\\begin{aligned}\n",
    "\\qquad & f_i(A) ≤ f_i(x^*), \\textit{ all } i = 1,...,n, and \\\\\n",
    "\\qquad & f_j(A) < f_i(x^*), \\textit{ some } j = 1,...,n,\n",
    "\\end{aligned}\n",
    "\\end{equation}\n",
    "$$\n",
    "\n",
    "We can write our achievement scalarizing probel as (from lectures):\n",
    "\n",
    "$$\n",
    "\\begin{equation}\n",
    "\\begin{aligned}\n",
    "\\min_{x \\in S}(\\max_{i=1}^k (f_i(x^*) - z_i^{ref}) + 𝜌 \\sum_{i = 1}^k f(x^*))\\\\\n",
    "\\end{aligned}\n",
    "\\end{equation}\n",
    "$$\n",
    "\n",
    "And because we know that $x^*$ is optimal but is not pareto optimal and when $i = j$ then we get:\n",
    "\n",
    "$$\n",
    "\\begin{equation}\n",
    "\\begin{aligned}\n",
    "\\min_{x \\in S}(\\max_{i=1}^k (f_i(A) - z_i^{ref}) + 𝜌 \\sum_{i = 1}^k f_i(A)) ≤ \\min_{x \\in S}(\\max_{i=1}^k (f_i(x^*) - z_i^{ref}) + 𝜌 \\sum_{i = 1}^k f_i(x^*))\\\\\n",
    "\\end{aligned}\n",
    "\\end{equation}\n",
    "$$\n",
    "\n",
    "But there needs to also exist A so that: $f_j(A) < f_i(x^*), j = 1,...,n$ and when $i \\neq j $ then there should exist\n",
    "\n",
    "$$\n",
    "\\begin{equation}\n",
    "\\begin{aligned}\n",
    "\\min_{x \\in S}(\\max_{i=1}^k (f_i(A) - z_i^{ref}) + 𝜌 \\sum_{i = 1}^k f_i(A)) < \\min_{x \\in S}(\\max_{i=1}^k (f_i(A) - z_i^{ref}) + 𝜌 \\sum_{i = 1}^k f_i(A))\\\\\n",
    "\\end{aligned}\n",
    "\\end{equation}\n",
    "$$\n",
    "\n",
    "But this can't be because in case $i = j$ we have that $x^*$ = $A$ so we will have that:\n",
    "\n",
    "$$\n",
    "\\begin{equation}\n",
    "\\begin{aligned}\n",
    "\\min_{x \\in S}( \\max_{i=1}^k (f_i(A) - z_i^{ref}) + 𝜌 \\sum_{i = 1}^k f_i(A)) = \\min_{x \\in S}(\\max_{i=1}^k (f_i(x^*) - z_i^{ref}) + 𝜌 \\sum_{i = 1}^k f_i(x^*))\\\\\n",
    "\\end{aligned}\n",
    "\\end{equation}\n",
    "$$\n",
    "\n",
    "And thus $x^*$ is also the pareto optimal solution.\n"
   ]
  }
 ],
 "metadata": {
  "kernelspec": {
   "display_name": "Python 3 (ipykernel)",
   "language": "python",
   "name": "python3"
  },
  "language_info": {
   "codemirror_mode": {
    "name": "ipython",
    "version": 3
   },
   "file_extension": ".py",
   "mimetype": "text/x-python",
   "name": "python",
   "nbconvert_exporter": "python",
   "pygments_lexer": "ipython3",
   "version": "3.9.13"
  }
 },
 "nbformat": 4,
 "nbformat_minor": 5
}
