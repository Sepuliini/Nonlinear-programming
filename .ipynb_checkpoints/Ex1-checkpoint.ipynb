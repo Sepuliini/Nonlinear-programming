{
 "cells": [
  {
   "cell_type": "code",
   "execution_count": 102,
   "id": "cac3097d",
   "metadata": {},
   "outputs": [],
   "source": [
    "%matplotlib inline"
   ]
  },
  {
   "cell_type": "code",
   "execution_count": 91,
   "id": "bc94f954",
   "metadata": {},
   "outputs": [],
   "source": [
    "import numpy as np\n",
    "import matplotlib.pyplot as plt"
   ]
  },
  {
   "cell_type": "markdown",
   "id": "536643a5",
   "metadata": {},
   "source": [
    "<h2> Exercise 1 </h2>\n",
    "<p>\n",
    "    Int his excersice we will be making a function to calculate our course grade.\n",
    "</p>\n",
    "    \n",
    "<p> We will be defing a function such as a = points recived in the course\n",
    "    and b = max points that could have been recieved. \n",
    "</p>\n",
    "<p>\n",
    "    We know that course is graded such as:\n",
    "</p>\n",
    "<ul>\n",
    "    <li>  90% or more of the points -> grade 5 </li>\n",
    "    <li>  80% or more of the points -> grade 4 </li>\n",
    "    <li>  70% or more of the points -> grade 3 </li>\n",
    "    <li>  60% or more of the points -> grade 2 </li>\n",
    "    <li>  50% or more of the points -> grade 1 </li>\n",
    "    <li>  Less than 50% of the points -> failed </li>\n",
    "</ul>\n",
    "<p> \n",
    "    Here we can see that if a/b = 0.5 we will be getting a grade 1.\n",
    "    If a/b = 0.9 we will be getting a grade 5 and so on.\n",
    "</p>\n",
    "<p>\n",
    "    Hint for this excersise was that we can define our function as linear.\n",
    "    Let us define our function as r * a/b + c \n",
    "</p>\n",
    "<p>\n",
    "    From here we can see that <MATH>0.5 * r + c = 1</MATH> and 0.9 * r + c = 5\n",
    "</p>\n",
    "<p>\n",
    "    Solving this system of equations such as:\n",
    "</p>\n",
    "$$\n",
    "\\begin{cases}\n",
    "0.5  r + c = 1 & \\quad \\\\ \n",
    "0.9  r + c = 5 & \\quad \n",
    "\\end{cases}\n",
    "$$\n",
    "<p>\n",
    "    Here we get that r = 10 and c = -4\n",
    "</p>\n",
    "\n",
    "<p>\n",
    "    So our equation will be: 10 * a/b - 4. We can test it:\n",
    "</p>\n",
    "<p>\n",
    "    Let a = 13 and b = 20. Now we will get: 10 * 13/20 - 4 = 10 * 0.65 -4 = 2,5\n",
    "    so our grade would be 2.\n",
    "</p>"
   ]
  },
  {
   "cell_type": "code",
   "execution_count": 79,
   "id": "43315357",
   "metadata": {},
   "outputs": [],
   "source": [
    "def grade(a,b):\n",
    "    try:\n",
    "        x = a + 0.0\n",
    "        y = b + 0.0\n",
    "        \n",
    "        if x > y:\n",
    "            return(\"You can't get more points than max\")\n",
    "        elif 10 * (x/y) - 4 < 0:\n",
    "            return(0.0)\n",
    "        elif x < 0:\n",
    "            return(\"You cant get negative points\")\n",
    "        return(10 * (x/y) - 4)\n",
    "    except TypeError:\n",
    "        return(\"a and b must be numbers.\")"
   ]
  },
  {
   "cell_type": "code",
   "execution_count": 80,
   "id": "4a747251",
   "metadata": {},
   "outputs": [
    {
     "name": "stdout",
     "output_type": "stream",
     "text": [
      "when a = 13 and b = 20:  2.5\n",
      "When a = 50 and b = 100:  1.0\n",
      "When a = 18 and b = 22:  4.181818181818182\n",
      "When a = points and b = grade:  a and b must be numbers.\n"
     ]
    }
   ],
   "source": [
    "print(\"when a = 13 and b = 20: \", grade(13,20))\n",
    "print(\"When a = 50 and b = 100: \", grade(50,100))\n",
    "print(\"When a = 18 and b = 22: \", grade(18,22))\n",
    "print(\"When a = points and b = grade: \", grade(\"points\", \"grade\"))"
   ]
  },
  {
   "cell_type": "markdown",
   "id": "0d36e59f",
   "metadata": {},
   "source": [
    "<h2> Excersise 2 </h2>\n",
    "<p> Now that we have a function for calculation our grade \n",
    "    let's create a function that will calculate the minimum points required \n",
    "    to get a certain grade.\n",
    "</p>"
   ]
  },
  {
   "cell_type": "code",
   "execution_count": 81,
   "id": "a52ebff6",
   "metadata": {},
   "outputs": [],
   "source": [
    "def minpoints(a,b):\n",
    "    try:\n",
    "        if a > 5:\n",
    "            a = 5\n",
    "        elif a < 0:\n",
    "            a = 0 \n",
    "            \n",
    "        x = a\n",
    "        y = b\n",
    "        z = 0.0\n",
    "        \n",
    "        for i in range(0,y):\n",
    "            if grade(i,y) >= x:\n",
    "                return i\n",
    "            \n",
    "    except TypeError:\n",
    "        return(\"a and b must be numbers.\")"
   ]
  },
  {
   "cell_type": "code",
   "execution_count": 82,
   "id": "e7c081f9",
   "metadata": {},
   "outputs": [
    {
     "name": "stdout",
     "output_type": "stream",
     "text": [
      "If max number of points is 20 and we want to get grade 2 from the course, we will need  12 points.\n",
      "If max number of points is 1220 and we want to get grade 2 from the course, we will need  732 points.\n"
     ]
    }
   ],
   "source": [
    "print(\"If max number of points is 20 and we want to get grade 2 from the course, we will need \", minpoints(2,20), \"points.\")\n",
    "print(\"If max number of points is 1220 and we want to get grade 2 from the course, we will need \", minpoints(2,1220), \"points.\")"
   ]
  },
  {
   "cell_type": "code",
   "execution_count": 103,
   "id": "369929ba",
   "metadata": {},
   "outputs": [
    {
     "data": {
      "image/png": "[encoded data removed]",
      "text/plain": [
       "<Figure size 640x480 with 1 Axes>"
      ]
     },
     "metadata": {},
     "output_type": "display_data"
    }
   ],
   "source": [
    "y = np.arange(0,10)\n",
    "x = []\n",
    "i = 0\n",
    "while i < len(y):\n",
    "    x.append(grade(y[i],10))\n",
    "    i+=1\n",
    "\n",
    "plt.plot(x)\n",
    "plt.show()"
   ]
  },
  {
   "cell_type": "code",
   "execution_count": null,
   "id": "96bb5c4d",
   "metadata": {},
   "outputs": [],
   "source": []
  }
 ],
 "metadata": {
  "kernelspec": {
   "display_name": "Python 3 (ipykernel)",
   "language": "python",
   "name": "python3"
  },
  "language_info": {
   "codemirror_mode": {
    "name": "ipython",
    "version": 3
   },
   "file_extension": ".py",
   "mimetype": "text/x-python",
   "name": "python",
   "nbconvert_exporter": "python",
   "pygments_lexer": "ipython3",
   "version": "3.9.13"
  }
 },
 "nbformat": 4,
 "nbformat_minor": 5
}
