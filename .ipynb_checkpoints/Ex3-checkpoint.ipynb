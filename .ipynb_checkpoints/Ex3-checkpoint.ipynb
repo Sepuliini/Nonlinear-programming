{
 "cells": [
  {
   "cell_type": "code",
   "execution_count": 2,
   "id": "1d841f08",
   "metadata": {},
   "outputs": [],
   "source": [
    "from scipy.optimize import minimize\n",
    "%matplotlib inline\n",
    "import numpy as np\n",
    "import math\n",
    "import matplotlib.pyplot as plt\n",
    "import scipy.optimize as minimize\n",
    "import ad"
   ]
  },
  {
   "cell_type": "markdown",
   "id": "05e57edd",
   "metadata": {},
   "source": [
    "<H2> Exercise 3 </H2>\n",
    "\n",
    "<p> For all of the following tasks, we study the following optimization problem: </p>\n",
    "\n",
    "$$  \\min \\qquad x_1^2 + x_2^2 + x_1 + 2x_2 $$\n",
    "$$\\text{s.t.} \\qquad \\qquad x_1 \\text{,} x_2 \\in R $$"
   ]
  },
  {
   "cell_type": "code",
   "execution_count": 3,
   "id": "eee23e9a",
   "metadata": {},
   "outputs": [],
   "source": [
    "def f(x):\n",
    "    return x[0]**2 + x[1]**2 + x[0] + 2 * x[1] "
   ]
  },
  {
   "cell_type": "markdown",
   "id": "acb1aeaa",
   "metadata": {},
   "source": [
    "<H4> Task 1 </H4>\n",
    "\n",
    "<p> In this task we will be impelemnting steepest descent algorithm with using golden section search for optimal step lenght </p>"
   ]
  },
  {
   "cell_type": "code",
   "execution_count": 4,
   "id": "3830f1af",
   "metadata": {},
   "outputs": [],
   "source": [
    "def golden(a,b,f,L):\n",
    "    #(Set x as the start point of interval and y as the end point)\n",
    "    x = a\n",
    "    y = b\n",
    "    #(Divide the interval [x,y] in the golden section from the left and right and attain two division points\n",
    "    #If the greater of the division points has a greater function value \n",
    "    #set y as the rightmost division point, because a local optimum is before that)\n",
    "    while y-x>2*L:  \n",
    "        left_ratio = y-((math.sqrt(5.0)-1)/2.0)*(y-x)\n",
    "        right_ratio = x+((math.sqrt(5.0)-1)/2.0)*(y-x)   \n",
    "        if f(left_ratio) < f(right_ratio):\n",
    "            y = right_ratio\n",
    "        #(otherwise:\n",
    "        #set x as the leftmost division point, because a local optimum is after that)\n",
    "        else:\n",
    "            x = left_ratio\n",
    "    #return midpoint between x and y\n",
    "    return (x+y)/2"
   ]
  },
  {
   "cell_type": "code",
   "execution_count": 5,
   "id": "58d474ea",
   "metadata": {},
   "outputs": [],
   "source": [
    "\n",
    "def steepest_descent_golden(f,start,length,precision):\n",
    "    x = np.array(start)\n",
    "    func_old = float('Inf')\n",
    "    d = float('Inf')\n",
    "    func_new = f(x)\n",
    "    steplist = []\n",
    "    while abs(func_old - func_new) > precision:\n",
    "            func_old = func_new\n",
    "            # Calculate gradient using finite difference method\n",
    "            epsilon = 1e-4\n",
    "            gradient = np.zeros_like(x)\n",
    "            for i in range(x.shape[0]):\n",
    "                x_plus = x.copy()\n",
    "                x_plus[i] += epsilon\n",
    "                x_minus = x.copy()\n",
    "                x_minus[i] -= epsilon\n",
    "                gradient[i] = (f(x_plus) - f(x_minus)) / (2 * epsilon)\n",
    "            d = -gradient / np.linalg.norm(gradient)\n",
    "            # Implementing golden section for optimization of step length\n",
    "            # Golden section algorithm is the same one used at Exercise 2\n",
    "            step = golden(0, length, lambda i: f(x + i * d), precision)  \n",
    "            x = x + d * step # Take a step\n",
    "            func_new = f(x) # New value\n",
    "            steplist.append(list(x))\n",
    "    return x, steplist\n"
   ]
  },
  {
   "cell_type": "code",
   "execution_count": 6,
   "id": "4b85e085",
   "metadata": {},
   "outputs": [
    {
     "name": "stdout",
     "output_type": "stream",
     "text": [
      "Min:  [-0.50004321 -0.99995007]\n"
     ]
    }
   ],
   "source": [
    "start = [-10,10]\n",
    "precision = 0.0001\n",
    "(x,steplist) = steepest_descent_golden(f, start, 3, precision)\n",
    "print (\"Min: \", x)"
   ]
  },
  {
   "cell_type": "markdown",
   "id": "b1ef4aa9",
   "metadata": {},
   "source": [
    "<H4> Task 2 </H4>\n",
    "\n",
    "<p> Plotting the function steps of Steepest descent used in lectures and of the one implementet at task 1</p>"
   ]
  },
  {
   "cell_type": "code",
   "execution_count": 7,
   "id": "933bc673",
   "metadata": {},
   "outputs": [],
   "source": [
    "#code from lectures\n",
    "def steepest_descent(f,start,step,precision):\n",
    "    f_old = float('Inf')\n",
    "    x = np.array(start)\n",
    "    steps = []\n",
    "    f_new = f(x)\n",
    "    while abs(f_old-f_new)>precision:\n",
    "    #while np.linalg.norm(ad.gh(f)[0](x))>precision: # an alternative stopping rule\n",
    "        f_old = f_new # store value at the current point\n",
    "        d = -np.array(ad.gh(f)[0](x)) # search direction\n",
    "        x = x+d*step # take a step\n",
    "        f_new = f(x) # compute function value at the new point\n",
    "        steps.append(list(x)) # save step\n",
    "    return x,f_new,steps"
   ]
  },
  {
   "cell_type": "code",
   "execution_count": 8,
   "id": "c7acac2d",
   "metadata": {},
   "outputs": [
    {
     "name": "stdout",
     "output_type": "stream",
     "text": [
      "Min:  [-0.50752668 -0.9912849 ]\n"
     ]
    }
   ],
   "source": [
    "(x1,f_new,steplist1) = steepest_descent(f,start, 0.1, 0.0001)\n",
    "print (\"Min: \", x1)"
   ]
  },
  {
   "cell_type": "code",
   "execution_count": 9,
   "id": "274e0038",
   "metadata": {},
   "outputs": [
    {
     "data": {
      "image/png": "[encoded data removed]",
      "text/plain": [
       "<Figure size 640x480 with 2 Axes>"
      ]
     },
     "metadata": {},
     "output_type": "display_data"
    }
   ],
   "source": [
    "#Plotting functions steps\n",
    "\n",
    "#Plot of my function from task 1:\n",
    "plt.subplot(1, 2, 1)\n",
    "vector = np.array([start] + steplist).transpose()\n",
    "plt.title(\"Optimized step length\")\n",
    "plt.plot(vector[0,], vector[1,], 'ro')\n",
    "\n",
    "#Plot of function from lectures\n",
    "plt.subplot(1, 2, 2)\n",
    "vector1 = np.array([start] + steplist1).transpose()\n",
    "plt.title(\"Fixed step length\")\n",
    "plt.plot(vector1[0,], vector1[1,], 'bo')\n",
    "\n",
    "#Red is the one using optimized steps\n",
    "#Blue is the one using fixed steps that from the lectures\n",
    "plt.show()"
   ]
  },
  {
   "cell_type": "markdown",
   "id": "180b6def",
   "metadata": {},
   "source": [
    "<p> With optimized step length the steps are equally apart from each other (Red dots). With optimized step length we also need to think more about the right maximum step length. </p>\n",
    "<p> With fixed steps length the dots \"move\" faster at the start because steps are multiplied with gradient that has different lenghts </p>\n",
    "<p>  </p>"
   ]
  },
  {
   "cell_type": "code",
   "execution_count": null,
   "id": "42ca95ee",
   "metadata": {},
   "outputs": [],
   "source": []
  }
 ],
 "metadata": {
  "kernelspec": {
   "display_name": "Python 3 (ipykernel)",
   "language": "python",
   "name": "python3"
  },
  "language_info": {
   "codemirror_mode": {
    "name": "ipython",
    "version": 3
   },
   "file_extension": ".py",
   "mimetype": "text/x-python",
   "name": "python",
   "nbconvert_exporter": "python",
   "pygments_lexer": "ipython3",
   "version": "3.9.13"
  }
 },
 "nbformat": 4,
 "nbformat_minor": 5
}
