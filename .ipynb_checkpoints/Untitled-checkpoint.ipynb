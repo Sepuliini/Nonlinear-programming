{
 "cells": [
  {
   "cell_type": "code",
   "execution_count": 29,
   "id": "ffcaf107",
   "metadata": {},
   "outputs": [
    {
     "name": "stdout",
     "output_type": "stream",
     "text": [
      "Using matplotlib backend: MacOSX\n"
     ]
    }
   ],
   "source": [
    "%matplotlib"
   ]
  },
  {
   "cell_type": "code",
   "execution_count": 23,
   "id": "f9bb9a74",
   "metadata": {},
   "outputs": [],
   "source": [
    "import numpy as np\n",
    "import matplotlib.pyplot as plt"
   ]
  },
  {
   "cell_type": "code",
   "execution_count": 24,
   "id": "6ea4318e",
   "metadata": {},
   "outputs": [],
   "source": [
    "def grade(a,b):\n",
    "    x = a + 0.0\n",
    "    y = b + 0.0 \n",
    "    \n",
    "    try:\n",
    "        grade = x/y\n",
    "        if grade < 0.5: return 0 \n",
    "        elif grade >= 0.5 and grade < 0.6:\n",
    "            return 1.0\n",
    "        elif grade >= 0.6 and grade < 0.7:\n",
    "            return 2.0\n",
    "        elif grade >= 0.7 and grade < 0.8:\n",
    "            return 3.0\n",
    "        elif grade >= 0.8 and grade < 0.9:\n",
    "            return 4.0\n",
    "        elif grade >= 0.9:\n",
    "            return 5.0\n",
    "    except TypeError:\n",
    "        return(\"Type Error\")     "
   ]
  },
  {
   "cell_type": "code",
   "execution_count": 25,
   "id": "380a2b58",
   "metadata": {},
   "outputs": [
    {
     "data": {
      "text/plain": [
       "2.0"
      ]
     },
     "execution_count": 25,
     "metadata": {},
     "output_type": "execute_result"
    }
   ],
   "source": [
    "grade(12,20)"
   ]
  },
  {
   "cell_type": "code",
   "execution_count": 26,
   "id": "768aa993",
   "metadata": {},
   "outputs": [],
   "source": [
    "def minimum(a,b):\n",
    "    try:\n",
    "        x = a\n",
    "        y = b\n",
    "        z = 0.0\n",
    "\n",
    "        while True:\n",
    "            if grade(z,y) >= x:\n",
    "                return z\n",
    "            z+=0.001\n",
    "    except TypeError:\n",
    "        return(\"Type Error\")"
   ]
  },
  {
   "cell_type": "code",
   "execution_count": 27,
   "id": "ae7f4b6c",
   "metadata": {},
   "outputs": [
    {
     "data": {
      "text/plain": [
       "18.000999999999017"
      ]
     },
     "execution_count": 27,
     "metadata": {},
     "output_type": "execute_result"
    }
   ],
   "source": [
    "minimum(5,20)"
   ]
  },
  {
   "cell_type": "code",
   "execution_count": 32,
   "id": "03ad9b6c",
   "metadata": {},
   "outputs": [],
   "source": [
    "x = np.arange(0,20,1)\n",
    "y = []\n",
    "i = 0\n",
    "\n",
    "while i < len(x):\n",
    "    y.append(grade(x[i],20))\n",
    "    i += 1\n",
    "\n",
    "plt.plot(y)\n",
    "plt.xlim([0.0, 22.0])\n",
    "plt.ylim([0.0, 5.0])\n",
    "\n",
    "plt.show()\n",
    "\n"
   ]
  },
  {
   "cell_type": "code",
   "execution_count": null,
   "id": "cf91c16a",
   "metadata": {},
   "outputs": [],
   "source": []
  }
 ],
 "metadata": {
  "kernelspec": {
   "display_name": "Python 3 (ipykernel)",
   "language": "python",
   "name": "python3"
  },
  "language_info": {
   "codemirror_mode": {
    "name": "ipython",
    "version": 3
   },
   "file_extension": ".py",
   "mimetype": "text/x-python",
   "name": "python",
   "nbconvert_exporter": "python",
   "pygments_lexer": "ipython3",
   "version": "3.9.13"
  }
 },
 "nbformat": 4,
 "nbformat_minor": 5
}
